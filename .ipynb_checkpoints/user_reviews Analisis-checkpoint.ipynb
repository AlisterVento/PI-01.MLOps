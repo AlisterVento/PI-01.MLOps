{
 "cells": [
  {
   "block_group": "9f0547c5200547928af2f7fef808b051",
   "cell_type": "code",
   "execution_count": null,
   "metadata": {
    "cell_id": "9f0547c5200547928af2f7fef808b051",
    "deepnote_cell_type": "code",
    "deepnote_to_be_reexecuted": false,
    "execution_millis": 1469,
    "execution_start": 1693337202676,
    "source_hash": null
   },
   "outputs": [],
   "source": [
    "import pandas as pd #Cargaremos pandas para manejar los datos\",\n",
    "import numpy as np #Cargaremos numpy para manejar los datos,\n",
    "import json as json  #Cargaremos json para manejar los datos\",\n",
    "import gzip #Cargaremos gzip para manejar los datos,\n",
    "import ast\n",
    "import matplotlib.pyplot as plt  #Cargaremos matplotlib para graficar\",\n",
    "import seaborn as sns  #Cargaremos seaborn para graficar\",\n",
    "from sklearn.model_selection import train_test_split  #Cargaremos train_test_split para dividir los datos\",\n",
    "from sklearn.linear_model import LinearRegression  #Cargaremos LinearRegression para entrenar el modelo\",\n",
    "from sklearn.metrics import mean_squared_error, r2_score  #Cargaremos mean_squared_error y r2_score para evaluar el modelo\""
   ]
  },
  {
   "block_group": "a742e0d4035a4f7dabd43cd61482334e",
   "cell_type": "code",
   "execution_count": null,
   "metadata": {
    "cell_id": "a742e0d4035a4f7dabd43cd61482334e",
    "deepnote_cell_type": "code",
    "deepnote_to_be_reexecuted": false,
    "execution_millis": 43,
    "execution_start": 1693337204118,
    "source_hash": null
   },
   "outputs": [],
   "source": [
    "url02=r'/work/PI-01.MLOps/Datos/user_reviews.json.gz'"
   ]
  },
  {
   "block_group": "5ac518928b24445da2829e8c25ef6bb8",
   "cell_type": "code",
   "execution_count": null,
   "metadata": {
    "cell_id": "5ac518928b24445da2829e8c25ef6bb8",
    "deepnote_cell_type": "code",
    "deepnote_to_be_reexecuted": false,
    "execution_millis": 2921,
    "execution_start": 1693340115172,
    "source_hash": null
   },
   "outputs": [
    {
     "data": {
      "application/vnd.deepnote.dataframe.v3+json": {
       "column_count": 3,
       "columns": [
        {
         "dtype": "object",
         "name": "user_id",
         "stats": {
          "categories": [
           {
            "count": 1,
            "name": "76561197970982479"
           },
           {
            "count": 1,
            "name": "js41637"
           },
           {
            "count": 3,
            "name": "3 others"
           }
          ],
          "nan_count": 0,
          "unique_count": 5
         }
        },
        {
         "dtype": "object",
         "name": "user_url",
         "stats": {
          "categories": [
           {
            "count": 1,
            "name": "http://steamcommunity.com/profiles/76561197970982479"
           },
           {
            "count": 1,
            "name": "http://steamcommunity.com/id/js41637"
           },
           {
            "count": 3,
            "name": "3 others"
           }
          ],
          "nan_count": 0,
          "unique_count": 5
         }
        },
        {
         "dtype": "object",
         "name": "reviews",
         "stats": {
          "categories": [
           {
            "count": 1,
            "name": "[{'funny': '', 'posted': 'Posted November 5, 2011.', 'last_edited': '', 'item_id': '1250', 'helpful': 'No ratings yet', 'recommend': True, 'review': 'Simple yet with great replayability. In my opinion does \"zombie\" hordes and team work better than left 4 dead plus has a global leveling system. Alot of down to earth \"zombie\" splattering fun for the whole family. Amazed this sort of FPS is so rare.'}, {'funny': '', 'posted': 'Posted July 15, 2011.', 'last_edited': '', 'item_id': '22200', 'helpful': 'No ratings yet', 'recommend': True, 'review': \"It's unique and worth a playthrough.\"}, {'funny': '', 'posted': 'Posted April 21, 2011.', 'last_edited': '', 'item_id': '43110', 'helpful': 'No ratings yet', 'recommend': True, 'review': 'Great atmosphere. The gunplay can be a bit chunky at times but at the end of the day this game is definitely worth it and I hope they do a sequel...so buy the game so I get a sequel!'}]"
           },
           {
            "count": 1,
            "name": "[{'funny': '', 'posted': 'Posted June 24, 2014.', 'last_edited': '', 'item_id': '251610', 'helpful': '15 of 20 people (75%) found this review helpful', 'recommend': True, 'review': 'I know what you think when you see this title \"Barbie Dreamhouse Party\" but do not be intimidated by it\\'s title, this is easily one of my GOTYs. You don\\'t get any of that cliche game mechanics that all the latest games have, this is simply good core gameplay. Yes, you can\\'t 360 noscope your friends, but what you can do is show them up with your bad ‚ô•‚ô•‚ô• dance moves and put them to shame as you show them what true fashion and color combinations are.I know this game says for kids but, this is easily for any age range and any age will have a blast playing this.8/8'}, {'funny': '', 'posted': 'Posted September 8, 2013.', 'last_edited': '', 'item_id': '227300', 'helpful': '0 of 1 people (0%) found this review helpful', 'recommend': True, 'review': \"For a simple (it's actually not all that simple but it can be!) truck driving Simulator, it is quite a fun and relaxing game. Playing on simple (or easy?) its just the basic WASD keys for driving but (if you want) the game can be much harder and realistic with having to manually change gears, much harder turning, etc. And reversing in this game is a ‚ô•‚ô•‚ô•‚ô•‚ô•, as I imagine it would be with an actual truck. Luckily, you don't have to reverse park it but you get extra points if you do cause it is bloody hard. But this is suprisingly a nice truck driving game and I had a bit of fun with it.\"}, {'funny': '', 'posted': 'Posted November 29, 2013.', 'last_edited': '', 'item_id': '239030', 'helpful': '1 of 4 people (25%) found this review helpful', 'recommend': True, 'review': 'Very fun little game to play when your bored or as a time passer. Very gud. Do Recommend. pls buy'}]"
           },
           {
            "count": 3,
            "name": "3 others"
           }
          ],
          "nan_count": 0,
          "unique_count": 5
         }
        },
        {
         "dtype": "int64",
         "name": "_deepnote_index_column"
        }
       ],
       "row_count": 5,
       "rows": [
        {
         "_deepnote_index_column": 0,
         "reviews": "[{'funny': '', 'posted': 'Posted November 5, 2011.', 'last_edited': '', 'item_id': '1250', 'helpful': 'No ratings yet', 'recommend': True, 'review': 'Simple yet with great replayability. In my opinion does \"zombie\" hordes and team work better than left 4 dead plus has a global leveling system. Alot of down to earth \"zombie\" splattering fun for the whole family. Amazed this sort of FPS is so rare.'}, {'funny': '', 'posted': 'Posted July 15, 2011.', 'last_edited': '', 'item_id': '22200', 'helpful': 'No ratings yet', 'recommend': True, 'review': \"It's unique and worth a playthrough.\"}, {'funny': '', 'posted': 'Posted April 21, 2011.', 'last_edited': '', 'item_id': '43110', 'helpful': 'No ratings yet', 'recommend': True, 'review': 'Great atmosphere. The gunplay can be a bit chunky at times but at the end of the day this game is definitely worth it and I hope they do a sequel...so buy the game so I get a sequel!'}]",
         "user_id": "76561197970982479",
         "user_url": "http://steamcommunity.com/profiles/76561197970982479"
        },
        {
         "_deepnote_index_column": 1,
         "reviews": "[{'funny': '', 'posted': 'Posted June 24, 2014.', 'last_edited': '', 'item_id': '251610', 'helpful': '15 of 20 people (75%) found this review helpful', 'recommend': True, 'review': 'I know what you think when you see this title \"Barbie Dreamhouse Party\" but do not be intimidated by it\\'s title, this is easily one of my GOTYs. You don\\'t get any of that cliche game mechanics that all the latest games have, this is simply good core gameplay. Yes, you can\\'t 360 noscope your friends, but what you can do is show them up with your bad ‚ô•‚ô•‚ô• dance moves and put them to shame as you show them what true fashion and color combinations are.I know this game says for kids but, this is easily for any age range and any age will have a blast playing this.8/8'}, {'funny': '', 'posted': 'Posted September 8, 2013.', 'last_edited': '', 'item_id': '227300', 'helpful': '0 of 1 people (0%) found this review helpful', 'recommend': True, 'review': \"For a simple (it's actually not all that simple but it c…",
         "user_id": "js41637",
         "user_url": "http://steamcommunity.com/id/js41637"
        },
        {
         "_deepnote_index_column": 2,
         "reviews": "[{'funny': '', 'posted': 'Posted February 3.', 'last_edited': '', 'item_id': '248820', 'helpful': 'No ratings yet', 'recommend': True, 'review': \"A suitably punishing roguelike platformer.  Winning feels good.  Progressive unlocks mean a good slog ending in failure doesn't feel like a waste.\"}, {'funny': '', 'posted': 'Posted December 4, 2015.', 'last_edited': 'Last edited December 5, 2015.', 'item_id': '370360', 'helpful': 'No ratings yet', 'recommend': True, 'review': '\"Run for fun? What the hell kind of fun is that?\"'}, {'funny': '', 'posted': 'Posted November 3, 2014.', 'last_edited': '', 'item_id': '237930', 'helpful': 'No ratings yet', 'recommend': True, 'review': 'Elegant integration of gameplay, story, world development and aesthetic.'}, {'funny': '', 'posted': 'Posted October 15, 2014.', 'last_edited': '', 'item_id': '263360', 'helpful': 'No ratings yet', 'recommend': True, 'review': 'Random drops and random quests, with stat points.  Animation style reminiscent of the era be…",
         "user_id": "evcentric",
         "user_url": "http://steamcommunity.com/id/evcentric"
        },
        {
         "_deepnote_index_column": 3,
         "reviews": "[{'funny': '', 'posted': 'Posted October 14, 2013.', 'last_edited': '', 'item_id': '250320', 'helpful': '2 of 2 people (100%) found this review helpful', 'recommend': True, 'review': 'This game... is so fun. The fight sequences have been improved from walking dead. It also includes more of a Sam and Max puzzle solving (some of it in the first episode) and walking dead. The game also gets even more better if you have read the Fables comic books, which are without a doubt, very good. The music is also superb and fit the scenarios very well.'}, {'funny': '', 'posted': 'Posted July 28, 2012.', 'last_edited': '', 'item_id': '20920', 'helpful': '1 of 1 people (100%) found this review helpful', 'recommend': True, 'review': \"Really Really Really Great Game, very good story, im in chapter 1 atm and i think its great. You get a really early link with characters. No need to play the first game, its nicely wrapped up for you in a five minute video. FYI beware of the sex scenes :P, nudity does hap…",
         "user_id": "doctr",
         "user_url": "http://steamcommunity.com/id/doctr"
        },
        {
         "_deepnote_index_column": 4,
         "reviews": "[{'funny': '3 people found this review funny', 'posted': 'Posted April 15, 2014.', 'last_edited': '', 'item_id': '211420', 'helpful': '35 of 43 people (81%) found this review helpful', 'recommend': True, 'review': 'Git gud'}, {'funny': '1 person found this review funny', 'posted': 'Posted December 23, 2013.', 'last_edited': '', 'item_id': '211820', 'helpful': '12 of 16 people (75%) found this review helpful', 'recommend': True, 'review': \"It's like Terraria, you play for 9 hours straight, get endgame armour then stop playing until the next update.\"}, {'funny': '2 people found this review funny', 'posted': 'Posted March 14, 2014.', 'last_edited': '', 'item_id': '730', 'helpful': '5 of 5 people (100%) found this review helpful', 'recommend': True, 'review': 'Hold shift to win, Hold CTRL to lose.'}, {'funny': '', 'posted': 'Posted July 11, 2013.', 'last_edited': '', 'item_id': '204300', 'helpful': 'No ratings yet', 'recommend': True, 'review': \"OH YES, THIS GAME IS THE BEST, THEY ADD STU…",
         "user_id": "maplemage",
         "user_url": "http://steamcommunity.com/id/maplemage"
        }
       ]
      },
      "text/html": [
       "<div>\n",
       "<style scoped>\n",
       "    .dataframe tbody tr th:only-of-type {\n",
       "        vertical-align: middle;\n",
       "    }\n",
       "\n",
       "    .dataframe tbody tr th {\n",
       "        vertical-align: top;\n",
       "    }\n",
       "\n",
       "    .dataframe thead th {\n",
       "        text-align: right;\n",
       "    }\n",
       "</style>\n",
       "<table border=\"1\" class=\"dataframe\">\n",
       "  <thead>\n",
       "    <tr style=\"text-align: right;\">\n",
       "      <th></th>\n",
       "      <th>user_id</th>\n",
       "      <th>user_url</th>\n",
       "      <th>reviews</th>\n",
       "    </tr>\n",
       "  </thead>\n",
       "  <tbody>\n",
       "    <tr>\n",
       "      <th>0</th>\n",
       "      <td>76561197970982479</td>\n",
       "      <td>http://steamcommunity.com/profiles/76561197970...</td>\n",
       "      <td>[{'funny': '', 'posted': 'Posted November 5, 2...</td>\n",
       "    </tr>\n",
       "    <tr>\n",
       "      <th>1</th>\n",
       "      <td>js41637</td>\n",
       "      <td>http://steamcommunity.com/id/js41637</td>\n",
       "      <td>[{'funny': '', 'posted': 'Posted June 24, 2014...</td>\n",
       "    </tr>\n",
       "    <tr>\n",
       "      <th>2</th>\n",
       "      <td>evcentric</td>\n",
       "      <td>http://steamcommunity.com/id/evcentric</td>\n",
       "      <td>[{'funny': '', 'posted': 'Posted February 3.',...</td>\n",
       "    </tr>\n",
       "    <tr>\n",
       "      <th>3</th>\n",
       "      <td>doctr</td>\n",
       "      <td>http://steamcommunity.com/id/doctr</td>\n",
       "      <td>[{'funny': '', 'posted': 'Posted October 14, 2...</td>\n",
       "    </tr>\n",
       "    <tr>\n",
       "      <th>4</th>\n",
       "      <td>maplemage</td>\n",
       "      <td>http://steamcommunity.com/id/maplemage</td>\n",
       "      <td>[{'funny': '3 people found this review funny',...</td>\n",
       "    </tr>\n",
       "  </tbody>\n",
       "</table>\n",
       "</div>"
      ],
      "text/plain": [
       "             user_id                                           user_url  \\\n",
       "0  76561197970982479  http://steamcommunity.com/profiles/76561197970...   \n",
       "1            js41637               http://steamcommunity.com/id/js41637   \n",
       "2          evcentric             http://steamcommunity.com/id/evcentric   \n",
       "3              doctr                 http://steamcommunity.com/id/doctr   \n",
       "4          maplemage             http://steamcommunity.com/id/maplemage   \n",
       "\n",
       "                                             reviews  \n",
       "0  [{'funny': '', 'posted': 'Posted November 5, 2...  \n",
       "1  [{'funny': '', 'posted': 'Posted June 24, 2014...  \n",
       "2  [{'funny': '', 'posted': 'Posted February 3.',...  \n",
       "3  [{'funny': '', 'posted': 'Posted October 14, 2...  \n",
       "4  [{'funny': '3 people found this review funny',...  "
      ]
     },
     "execution_count": 74,
     "metadata": {},
     "output_type": "execute_result"
    }
   ],
   "source": [
    "filas=[]\n",
    "with gzip.open(url02) as file:\n",
    "    for line in file.readlines():\n",
    "        line = line.decode('MacRoman')\n",
    "        filas.append(ast.literal_eval(line))\n",
    "\n",
    "df_user_reviews = pd.DataFrame(filas)\n",
    "df_user_reviews.head()"
   ]
  },
  {
   "block_group": "eb364a9c343948009a49ea44e73bdb58",
   "cell_type": "code",
   "execution_count": null,
   "metadata": {
    "cell_id": "eb364a9c343948009a49ea44e73bdb58",
    "deepnote_cell_type": "code",
    "deepnote_to_be_reexecuted": false,
    "execution_millis": 90,
    "execution_start": 1693340119669,
    "source_hash": null
   },
   "outputs": [],
   "source": [
    "def check_df(dataset, head = 5):\n",
    "    \"\"\"\n",
    "    Funcion creada para tener una vista general de la base de datos\n",
    "    \"\"\"\n",
    "    print('*'*30 + 'Forma de la base de datos' + '*'*30, end = '\\n'*2)\n",
    "    print(dataset.shape, end = '\\n'*2)#Tamaño de la base de datos\n",
    "\n",
    "    print('*'*30 + 'Informacion general de la base de datos' + '*'*30, end = '\\n'*2)\n",
    "    print(dataset.info(), end = '\\n'*2)# Informacion general\n",
    "\n",
    "    print('*'*30 + 'Mostrar las primeras 5 filas' + '*'*30, end = '\\n'*2)\n",
    "    print(dataset.head(), end = '\\n'*2)# Mostrar las primeras 5 filas\n",
    "\n",
    "    print('*'*30 + 'NaN cantidad de nulos' + '*'*30, end = '\\n'*2)\n",
    "    print(dataset.isnull().sum(), end = '\\n'*2)#Cuenta la cantidad de NaN por columna"
   ]
  },
  {
   "block_group": "1dbefaae148348f6959bbaf6fb6b3dea",
   "cell_type": "code",
   "execution_count": null,
   "metadata": {
    "cell_id": "1dbefaae148348f6959bbaf6fb6b3dea",
    "deepnote_cell_type": "code",
    "deepnote_to_be_reexecuted": false,
    "execution_millis": 581,
    "execution_start": 1693340122194,
    "source_hash": null
   },
   "outputs": [
    {
     "name": "stdout",
     "output_type": "stream",
     "text": [
      "******************************Forma de la base de datos******************************\n",
      "\n",
      "(25799, 3)\n",
      "\n",
      "******************************Informacion general de la base de datos******************************\n",
      "\n",
      "<class 'pandas.core.frame.DataFrame'>\n",
      "RangeIndex: 25799 entries, 0 to 25798\n",
      "Data columns (total 3 columns):\n",
      " #   Column    Non-Null Count  Dtype \n",
      "---  ------    --------------  ----- \n",
      " 0   user_id   25799 non-null  object\n",
      " 1   user_url  25799 non-null  object\n",
      " 2   reviews   25799 non-null  object\n",
      "dtypes: object(3)\n",
      "memory usage: 604.8+ KB\n",
      "None\n",
      "\n",
      "******************************Mostrar las primeras 5 filas******************************\n",
      "\n",
      "             user_id                                           user_url  \\\n",
      "0  76561197970982479  http://steamcommunity.com/profiles/76561197970...   \n",
      "1            js41637               http://steamcommunity.com/id/js41637   \n",
      "2          evcentric             http://steamcommunity.com/id/evcentric   \n",
      "3              doctr                 http://steamcommunity.com/id/doctr   \n",
      "4          maplemage             http://steamcommunity.com/id/maplemage   \n",
      "\n",
      "                                             reviews  \n",
      "0  [{'funny': '', 'posted': 'Posted November 5, 2...  \n",
      "1  [{'funny': '', 'posted': 'Posted June 24, 2014...  \n",
      "2  [{'funny': '', 'posted': 'Posted February 3.',...  \n",
      "3  [{'funny': '', 'posted': 'Posted October 14, 2...  \n",
      "4  [{'funny': '3 people found this review funny',...  \n",
      "\n",
      "******************************NaN cantidad de nulos******************************\n",
      "\n",
      "user_id     0\n",
      "user_url    0\n",
      "reviews     0\n",
      "dtype: int64\n",
      "\n"
     ]
    }
   ],
   "source": [
    "check_df(df_user_reviews)"
   ]
  },
  {
   "block_group": "99347a7b7cc6450baaf491e55f6c08bb",
   "cell_type": "code",
   "execution_count": null,
   "metadata": {
    "cell_id": "99347a7b7cc6450baaf491e55f6c08bb",
    "deepnote_cell_type": "code",
    "deepnote_to_be_reexecuted": false,
    "execution_millis": 98,
    "execution_start": 1693340126294,
    "source_hash": null
   },
   "outputs": [],
   "source": [
    "df_user_reviews2=df_user_reviews.copy()\n",
    "df_user_reviews2=df_user_reviews.explode('reviews')"
   ]
  },
  {
   "block_group": "b6942f2fa31f454fb005e369ee66124e",
   "cell_type": "code",
   "execution_count": null,
   "metadata": {
    "cell_id": "b6942f2fa31f454fb005e369ee66124e",
    "deepnote_cell_type": "code",
    "deepnote_to_be_reexecuted": false,
    "execution_millis": 390,
    "execution_start": 1693340128068,
    "source_hash": null
   },
   "outputs": [
    {
     "data": {
      "application/vnd.deepnote.dataframe.v3+json": {
       "column_count": 3,
       "columns": [
        {
         "dtype": "object",
         "name": "user_id",
         "stats": {
          "categories": [
           {
            "count": 20,
            "name": "chicken_tonight"
           },
           {
            "count": 20,
            "name": "OfficialSenix"
           },
           {
            "count": 59293,
            "name": "25483 others"
           }
          ],
          "nan_count": 0,
          "unique_count": 25485
         }
        },
        {
         "dtype": "object",
         "name": "user_url"
        },
        {
         "dtype": "object",
         "name": "reviews"
        },
        {
         "dtype": "int64",
         "name": "_deepnote_index_column"
        }
       ],
       "row_count": 59333,
       "rows": [
        {
         "_deepnote_index_column": 0,
         "reviews": "{'funny': '', 'posted': 'Posted November 5, 2011.', 'last_edited': '', 'item_id': '1250', 'helpful': 'No ratings yet', 'recommend': True, 'review': 'Simple yet with great replayability. In my opinion does \"zombie\" hordes and team work better than left 4 dead plus has a global leveling system. Alot of down to earth \"zombie\" splattering fun for the whole family. Amazed this sort of FPS is so rare.'}",
         "user_id": "76561197970982479",
         "user_url": "http://steamcommunity.com/profiles/76561197970982479"
        },
        {
         "_deepnote_index_column": 0,
         "reviews": "{'funny': '', 'posted': 'Posted July 15, 2011.', 'last_edited': '', 'item_id': '22200', 'helpful': 'No ratings yet', 'recommend': True, 'review': \"It's unique and worth a playthrough.\"}",
         "user_id": "76561197970982479",
         "user_url": "http://steamcommunity.com/profiles/76561197970982479"
        },
        {
         "_deepnote_index_column": 0,
         "reviews": "{'funny': '', 'posted': 'Posted April 21, 2011.', 'last_edited': '', 'item_id': '43110', 'helpful': 'No ratings yet', 'recommend': True, 'review': 'Great atmosphere. The gunplay can be a bit chunky at times but at the end of the day this game is definitely worth it and I hope they do a sequel...so buy the game so I get a sequel!'}",
         "user_id": "76561197970982479",
         "user_url": "http://steamcommunity.com/profiles/76561197970982479"
        },
        {
         "_deepnote_index_column": 1,
         "reviews": "{'funny': '', 'posted': 'Posted June 24, 2014.', 'last_edited': '', 'item_id': '251610', 'helpful': '15 of 20 people (75%) found this review helpful', 'recommend': True, 'review': 'I know what you think when you see this title \"Barbie Dreamhouse Party\" but do not be intimidated by it\\'s title, this is easily one of my GOTYs. You don\\'t get any of that cliche game mechanics that all the latest games have, this is simply good core gameplay. Yes, you can\\'t 360 noscope your friends, but what you can do is show them up with your bad ‚ô•‚ô•‚ô• dance moves and put them to shame as you show them what true fashion and color combinations are.I know this game says for kids but, this is easily for any age range and any age will have a blast playing this.8/8'}",
         "user_id": "js41637",
         "user_url": "http://steamcommunity.com/id/js41637"
        },
        {
         "_deepnote_index_column": 1,
         "reviews": "{'funny': '', 'posted': 'Posted September 8, 2013.', 'last_edited': '', 'item_id': '227300', 'helpful': '0 of 1 people (0%) found this review helpful', 'recommend': True, 'review': \"For a simple (it's actually not all that simple but it can be!) truck driving Simulator, it is quite a fun and relaxing game. Playing on simple (or easy?) its just the basic WASD keys for driving but (if you want) the game can be much harder and realistic with having to manually change gears, much harder turning, etc. And reversing in this game is a ‚ô•‚ô•‚ô•‚ô•‚ô•, as I imagine it would be with an actual truck. Luckily, you don't have to reverse park it but you get extra points if you do cause it is bloody hard. But this is suprisingly a nice truck driving game and I had a bit of fun with it.\"}",
         "user_id": "js41637",
         "user_url": "http://steamcommunity.com/id/js41637"
        },
        {
         "_deepnote_index_column": 1,
         "reviews": "{'funny': '', 'posted': 'Posted November 29, 2013.', 'last_edited': '', 'item_id': '239030', 'helpful': '1 of 4 people (25%) found this review helpful', 'recommend': True, 'review': 'Very fun little game to play when your bored or as a time passer. Very gud. Do Recommend. pls buy'}",
         "user_id": "js41637",
         "user_url": "http://steamcommunity.com/id/js41637"
        },
        {
         "_deepnote_index_column": 2,
         "reviews": "{'funny': '', 'posted': 'Posted February 3.', 'last_edited': '', 'item_id': '248820', 'helpful': 'No ratings yet', 'recommend': True, 'review': \"A suitably punishing roguelike platformer.  Winning feels good.  Progressive unlocks mean a good slog ending in failure doesn't feel like a waste.\"}",
         "user_id": "evcentric",
         "user_url": "http://steamcommunity.com/id/evcentric"
        },
        {
         "_deepnote_index_column": 2,
         "reviews": "{'funny': '', 'posted': 'Posted December 4, 2015.', 'last_edited': 'Last edited December 5, 2015.', 'item_id': '370360', 'helpful': 'No ratings yet', 'recommend': True, 'review': '\"Run for fun? What the hell kind of fun is that?\"'}",
         "user_id": "evcentric",
         "user_url": "http://steamcommunity.com/id/evcentric"
        },
        {
         "_deepnote_index_column": 2,
         "reviews": "{'funny': '', 'posted': 'Posted November 3, 2014.', 'last_edited': '', 'item_id': '237930', 'helpful': 'No ratings yet', 'recommend': True, 'review': 'Elegant integration of gameplay, story, world development and aesthetic.'}",
         "user_id": "evcentric",
         "user_url": "http://steamcommunity.com/id/evcentric"
        },
        {
         "_deepnote_index_column": 2,
         "reviews": "{'funny': '', 'posted': 'Posted October 15, 2014.', 'last_edited': '', 'item_id': '263360', 'helpful': 'No ratings yet', 'recommend': True, 'review': 'Random drops and random quests, with stat points.  Animation style reminiscent of the era before the Voodoo card.'}",
         "user_id": "evcentric",
         "user_url": "http://steamcommunity.com/id/evcentric"
        }
       ]
      },
      "text/html": [
       "<div>\n",
       "<style scoped>\n",
       "    .dataframe tbody tr th:only-of-type {\n",
       "        vertical-align: middle;\n",
       "    }\n",
       "\n",
       "    .dataframe tbody tr th {\n",
       "        vertical-align: top;\n",
       "    }\n",
       "\n",
       "    .dataframe thead th {\n",
       "        text-align: right;\n",
       "    }\n",
       "</style>\n",
       "<table border=\"1\" class=\"dataframe\">\n",
       "  <thead>\n",
       "    <tr style=\"text-align: right;\">\n",
       "      <th></th>\n",
       "      <th>user_id</th>\n",
       "      <th>user_url</th>\n",
       "      <th>reviews</th>\n",
       "    </tr>\n",
       "  </thead>\n",
       "  <tbody>\n",
       "    <tr>\n",
       "      <th>0</th>\n",
       "      <td>76561197970982479</td>\n",
       "      <td>http://steamcommunity.com/profiles/76561197970...</td>\n",
       "      <td>{'funny': '', 'posted': 'Posted November 5, 20...</td>\n",
       "    </tr>\n",
       "    <tr>\n",
       "      <th>0</th>\n",
       "      <td>76561197970982479</td>\n",
       "      <td>http://steamcommunity.com/profiles/76561197970...</td>\n",
       "      <td>{'funny': '', 'posted': 'Posted July 15, 2011....</td>\n",
       "    </tr>\n",
       "    <tr>\n",
       "      <th>0</th>\n",
       "      <td>76561197970982479</td>\n",
       "      <td>http://steamcommunity.com/profiles/76561197970...</td>\n",
       "      <td>{'funny': '', 'posted': 'Posted April 21, 2011...</td>\n",
       "    </tr>\n",
       "    <tr>\n",
       "      <th>1</th>\n",
       "      <td>js41637</td>\n",
       "      <td>http://steamcommunity.com/id/js41637</td>\n",
       "      <td>{'funny': '', 'posted': 'Posted June 24, 2014....</td>\n",
       "    </tr>\n",
       "    <tr>\n",
       "      <th>1</th>\n",
       "      <td>js41637</td>\n",
       "      <td>http://steamcommunity.com/id/js41637</td>\n",
       "      <td>{'funny': '', 'posted': 'Posted September 8, 2...</td>\n",
       "    </tr>\n",
       "    <tr>\n",
       "      <th>...</th>\n",
       "      <td>...</td>\n",
       "      <td>...</td>\n",
       "      <td>...</td>\n",
       "    </tr>\n",
       "    <tr>\n",
       "      <th>25797</th>\n",
       "      <td>76561198312638244</td>\n",
       "      <td>http://steamcommunity.com/profiles/76561198312...</td>\n",
       "      <td>{'funny': '', 'posted': 'Posted July 10.', 'la...</td>\n",
       "    </tr>\n",
       "    <tr>\n",
       "      <th>25797</th>\n",
       "      <td>76561198312638244</td>\n",
       "      <td>http://steamcommunity.com/profiles/76561198312...</td>\n",
       "      <td>{'funny': '', 'posted': 'Posted July 8.', 'las...</td>\n",
       "    </tr>\n",
       "    <tr>\n",
       "      <th>25798</th>\n",
       "      <td>LydiaMorley</td>\n",
       "      <td>http://steamcommunity.com/id/LydiaMorley</td>\n",
       "      <td>{'funny': '1 person found this review funny', ...</td>\n",
       "    </tr>\n",
       "    <tr>\n",
       "      <th>25798</th>\n",
       "      <td>LydiaMorley</td>\n",
       "      <td>http://steamcommunity.com/id/LydiaMorley</td>\n",
       "      <td>{'funny': '', 'posted': 'Posted July 20.', 'la...</td>\n",
       "    </tr>\n",
       "    <tr>\n",
       "      <th>25798</th>\n",
       "      <td>LydiaMorley</td>\n",
       "      <td>http://steamcommunity.com/id/LydiaMorley</td>\n",
       "      <td>{'funny': '', 'posted': 'Posted July 2.', 'las...</td>\n",
       "    </tr>\n",
       "  </tbody>\n",
       "</table>\n",
       "<p>59333 rows × 3 columns</p>\n",
       "</div>"
      ],
      "text/plain": [
       "                 user_id                                           user_url  \\\n",
       "0      76561197970982479  http://steamcommunity.com/profiles/76561197970...   \n",
       "0      76561197970982479  http://steamcommunity.com/profiles/76561197970...   \n",
       "0      76561197970982479  http://steamcommunity.com/profiles/76561197970...   \n",
       "1                js41637               http://steamcommunity.com/id/js41637   \n",
       "1                js41637               http://steamcommunity.com/id/js41637   \n",
       "...                  ...                                                ...   \n",
       "25797  76561198312638244  http://steamcommunity.com/profiles/76561198312...   \n",
       "25797  76561198312638244  http://steamcommunity.com/profiles/76561198312...   \n",
       "25798        LydiaMorley           http://steamcommunity.com/id/LydiaMorley   \n",
       "25798        LydiaMorley           http://steamcommunity.com/id/LydiaMorley   \n",
       "25798        LydiaMorley           http://steamcommunity.com/id/LydiaMorley   \n",
       "\n",
       "                                                 reviews  \n",
       "0      {'funny': '', 'posted': 'Posted November 5, 20...  \n",
       "0      {'funny': '', 'posted': 'Posted July 15, 2011....  \n",
       "0      {'funny': '', 'posted': 'Posted April 21, 2011...  \n",
       "1      {'funny': '', 'posted': 'Posted June 24, 2014....  \n",
       "1      {'funny': '', 'posted': 'Posted September 8, 2...  \n",
       "...                                                  ...  \n",
       "25797  {'funny': '', 'posted': 'Posted July 10.', 'la...  \n",
       "25797  {'funny': '', 'posted': 'Posted July 8.', 'las...  \n",
       "25798  {'funny': '1 person found this review funny', ...  \n",
       "25798  {'funny': '', 'posted': 'Posted July 20.', 'la...  \n",
       "25798  {'funny': '', 'posted': 'Posted July 2.', 'las...  \n",
       "\n",
       "[59333 rows x 3 columns]"
      ]
     },
     "execution_count": 78,
     "metadata": {},
     "output_type": "execute_result"
    }
   ],
   "source": [
    "df_user_reviews2"
   ]
  },
  {
   "block_group": "d1bcec7d8a1f43f68101d8acca25b840",
   "cell_type": "code",
   "execution_count": null,
   "metadata": {
    "cell_id": "d1bcec7d8a1f43f68101d8acca25b840",
    "deepnote_cell_type": "code",
    "deepnote_to_be_reexecuted": false,
    "execution_millis": 72,
    "execution_start": 1693340133844,
    "source_hash": null
   },
   "outputs": [],
   "source": [
    "df_user_reviews2.dropna(subset=['reviews'],inplace=True)"
   ]
  },
  {
   "block_group": "ead029eb5f16414c808888d60e38eca9",
   "cell_type": "code",
   "execution_count": null,
   "metadata": {
    "cell_id": "ead029eb5f16414c808888d60e38eca9",
    "deepnote_cell_type": "code",
    "deepnote_to_be_reexecuted": false,
    "execution_millis": 2519,
    "execution_start": 1693340136271,
    "source_hash": null
   },
   "outputs": [
    {
     "data": {
      "application/vnd.deepnote.dataframe.v3+json": {
       "column_count": 7,
       "columns": [
        {
         "dtype": "object",
         "name": "funny",
         "stats": {
          "categories": [],
          "nan_count": 0,
          "unique_count": 0
         }
        },
        {
         "dtype": "object",
         "name": "posted",
         "stats": {
          "categories": [],
          "nan_count": 0,
          "unique_count": 0
         }
        },
        {
         "dtype": "object",
         "name": "last_edited",
         "stats": {
          "categories": [],
          "nan_count": 0,
          "unique_count": 0
         }
        },
        {
         "dtype": "object",
         "name": "item_id",
         "stats": {
          "categories": [],
          "nan_count": 0,
          "unique_count": 0
         }
        },
        {
         "dtype": "object",
         "name": "helpful",
         "stats": {
          "categories": [],
          "nan_count": 0,
          "unique_count": 0
         }
        },
        {
         "dtype": "object",
         "name": "recommend",
         "stats": {
          "categories": [],
          "nan_count": 0,
          "unique_count": 0
         }
        },
        {
         "dtype": "object",
         "name": "review",
         "stats": {
          "categories": [],
          "nan_count": 0,
          "unique_count": 0
         }
        },
        {
         "dtype": "object",
         "name": "_deepnote_index_column"
        }
       ],
       "row_count": 0,
       "rows": []
      },
      "text/html": [
       "<div>\n",
       "<style scoped>\n",
       "    .dataframe tbody tr th:only-of-type {\n",
       "        vertical-align: middle;\n",
       "    }\n",
       "\n",
       "    .dataframe tbody tr th {\n",
       "        vertical-align: top;\n",
       "    }\n",
       "\n",
       "    .dataframe thead th {\n",
       "        text-align: right;\n",
       "    }\n",
       "</style>\n",
       "<table border=\"1\" class=\"dataframe\">\n",
       "  <thead>\n",
       "    <tr style=\"text-align: right;\">\n",
       "      <th></th>\n",
       "      <th>funny</th>\n",
       "      <th>posted</th>\n",
       "      <th>last_edited</th>\n",
       "      <th>item_id</th>\n",
       "      <th>helpful</th>\n",
       "      <th>recommend</th>\n",
       "      <th>review</th>\n",
       "    </tr>\n",
       "  </thead>\n",
       "  <tbody>\n",
       "  </tbody>\n",
       "</table>\n",
       "</div>"
      ],
      "text/plain": [
       "Empty DataFrame\n",
       "Columns: [funny, posted, last_edited, item_id, helpful, recommend, review]\n",
       "Index: []"
      ]
     },
     "execution_count": 80,
     "metadata": {},
     "output_type": "execute_result"
    }
   ],
   "source": [
    "for elemento,diccionario in prueba['reviews'].items():\n",
    "    df=pd.DataFrame(columns=diccionario.keys())\n",
    "df"
   ]
  },
  {
   "block_group": "2f1d3d10be5249038a511f7546413b1b",
   "cell_type": "code",
   "execution_count": null,
   "metadata": {
    "cell_id": "2f1d3d10be5249038a511f7546413b1b",
    "deepnote_cell_type": "code",
    "deepnote_to_be_reexecuted": false,
    "execution_millis": 53711,
    "execution_start": 1693340500840,
    "source_hash": null
   },
   "outputs": [
    {
     "data": {
      "application/vnd.deepnote.dataframe.v3+json": {
       "column_count": 10,
       "columns": [
        {
         "dtype": "object",
         "name": "user_id",
         "stats": {
          "categories": [
           {
            "count": 10,
            "name": "diego9031"
           },
           {
            "count": 10,
            "name": "2768820078"
           },
           {
            "count": 54437,
            "name": "25456 others"
           }
          ],
          "nan_count": 0,
          "unique_count": 25458
         }
        },
        {
         "dtype": "object",
         "name": "user_url"
        },
        {
         "dtype": "object",
         "name": "reviews"
        },
        {
         "dtype": "object",
         "name": "funny"
        },
        {
         "dtype": "object",
         "name": "posted"
        },
        {
         "dtype": "object",
         "name": "last_edited"
        },
        {
         "dtype": "object",
         "name": "item_id"
        },
        {
         "dtype": "object",
         "name": "helpful"
        },
        {
         "dtype": "object",
         "name": "recommend"
        },
        {
         "dtype": "object",
         "name": "review"
        },
        {
         "dtype": "int64",
         "name": "_deepnote_index_column"
        }
       ],
       "row_count": 54457,
       "rows": [
        {
         "_deepnote_index_column": 0,
         "funny": "",
         "helpful": "No ratings yet",
         "item_id": "1250",
         "last_edited": "",
         "posted": "Posted November 5, 2011.",
         "recommend": "True",
         "review": "Simple yet with great replayability. In my opinion does \"zombie\" hordes and team work better than left 4 dead plus has a global leveling system. Alot of down to earth \"zombie\" splattering fun for the whole family. Amazed this sort of FPS is so rare.",
         "reviews": "{'funny': '', 'posted': 'Posted November 5, 2011.', 'last_edited': '', 'item_id': '1250', 'helpful': 'No ratings yet', 'recommend': True, 'review': 'Simple yet with great replayability. In my opinion does \"zombie\" hordes and team work better than left 4 dead plus has a global leveling system. Alot of down to earth \"zombie\" splattering fun for the whole family. Amazed this sort of FPS is so rare.'}",
         "user_id": "76561197970982479",
         "user_url": "http://steamcommunity.com/profiles/76561197970982479"
        },
        {
         "_deepnote_index_column": 0,
         "funny": "",
         "helpful": "No ratings yet",
         "item_id": "22200",
         "last_edited": "",
         "posted": "Posted July 15, 2011.",
         "recommend": "True",
         "review": "It's unique and worth a playthrough.",
         "reviews": "{'funny': '', 'posted': 'Posted November 5, 2011.', 'last_edited': '', 'item_id': '1250', 'helpful': 'No ratings yet', 'recommend': True, 'review': 'Simple yet with great replayability. In my opinion does \"zombie\" hordes and team work better than left 4 dead plus has a global leveling system. Alot of down to earth \"zombie\" splattering fun for the whole family. Amazed this sort of FPS is so rare.'}",
         "user_id": "76561197970982479",
         "user_url": "http://steamcommunity.com/profiles/76561197970982479"
        },
        {
         "_deepnote_index_column": 0,
         "funny": "",
         "helpful": "No ratings yet",
         "item_id": "43110",
         "last_edited": "",
         "posted": "Posted April 21, 2011.",
         "recommend": "True",
         "review": "Great atmosphere. The gunplay can be a bit chunky at times but at the end of the day this game is definitely worth it and I hope they do a sequel...so buy the game so I get a sequel!",
         "reviews": "{'funny': '', 'posted': 'Posted November 5, 2011.', 'last_edited': '', 'item_id': '1250', 'helpful': 'No ratings yet', 'recommend': True, 'review': 'Simple yet with great replayability. In my opinion does \"zombie\" hordes and team work better than left 4 dead plus has a global leveling system. Alot of down to earth \"zombie\" splattering fun for the whole family. Amazed this sort of FPS is so rare.'}",
         "user_id": "76561197970982479",
         "user_url": "http://steamcommunity.com/profiles/76561197970982479"
        },
        {
         "_deepnote_index_column": 1,
         "funny": "",
         "helpful": "15 of 20 people (75%) found this review helpful",
         "item_id": "251610",
         "last_edited": "",
         "posted": "Posted June 24, 2014.",
         "recommend": "True",
         "review": "I know what you think when you see this title \"Barbie Dreamhouse Party\" but do not be intimidated by it's title, this is easily one of my GOTYs. You don't get any of that cliche game mechanics that all the latest games have, this is simply good core gameplay. Yes, you can't 360 noscope your friends, but what you can do is show them up with your bad ‚ô•‚ô•‚ô• dance moves and put them to shame as you show them what true fashion and color combinations are.I know this game says for kids but, this is easily for any age range and any age will have a blast playing this.8/8",
         "reviews": "{'funny': '', 'posted': 'Posted June 24, 2014.', 'last_edited': '', 'item_id': '251610', 'helpful': '15 of 20 people (75%) found this review helpful', 'recommend': True, 'review': 'I know what you think when you see this title \"Barbie Dreamhouse Party\" but do not be intimidated by it\\'s title, this is easily one of my GOTYs. You don\\'t get any of that cliche game mechanics that all the latest games have, this is simply good core gameplay. Yes, you can\\'t 360 noscope your friends, but what you can do is show them up with your bad ‚ô•‚ô•‚ô• dance moves and put them to shame as you show them what true fashion and color combinations are.I know this game says for kids but, this is easily for any age range and any age will have a blast playing this.8/8'}",
         "user_id": "js41637",
         "user_url": "http://steamcommunity.com/id/js41637"
        },
        {
         "_deepnote_index_column": 1,
         "funny": "",
         "helpful": "0 of 1 people (0%) found this review helpful",
         "item_id": "227300",
         "last_edited": "",
         "posted": "Posted September 8, 2013.",
         "recommend": "True",
         "review": "For a simple (it's actually not all that simple but it can be!) truck driving Simulator, it is quite a fun and relaxing game. Playing on simple (or easy?) its just the basic WASD keys for driving but (if you want) the game can be much harder and realistic with having to manually change gears, much harder turning, etc. And reversing in this game is a ‚ô•‚ô•‚ô•‚ô•‚ô•, as I imagine it would be with an actual truck. Luckily, you don't have to reverse park it but you get extra points if you do cause it is bloody hard. But this is suprisingly a nice truck driving game and I had a bit of fun with it.",
         "reviews": "{'funny': '', 'posted': 'Posted June 24, 2014.', 'last_edited': '', 'item_id': '251610', 'helpful': '15 of 20 people (75%) found this review helpful', 'recommend': True, 'review': 'I know what you think when you see this title \"Barbie Dreamhouse Party\" but do not be intimidated by it\\'s title, this is easily one of my GOTYs. You don\\'t get any of that cliche game mechanics that all the latest games have, this is simply good core gameplay. Yes, you can\\'t 360 noscope your friends, but what you can do is show them up with your bad ‚ô•‚ô•‚ô• dance moves and put them to shame as you show them what true fashion and color combinations are.I know this game says for kids but, this is easily for any age range and any age will have a blast playing this.8/8'}",
         "user_id": "js41637",
         "user_url": "http://steamcommunity.com/id/js41637"
        },
        {
         "_deepnote_index_column": 1,
         "funny": "",
         "helpful": "1 of 4 people (25%) found this review helpful",
         "item_id": "239030",
         "last_edited": "",
         "posted": "Posted November 29, 2013.",
         "recommend": "True",
         "review": "Very fun little game to play when your bored or as a time passer. Very gud. Do Recommend. pls buy",
         "reviews": "{'funny': '', 'posted': 'Posted June 24, 2014.', 'last_edited': '', 'item_id': '251610', 'helpful': '15 of 20 people (75%) found this review helpful', 'recommend': True, 'review': 'I know what you think when you see this title \"Barbie Dreamhouse Party\" but do not be intimidated by it\\'s title, this is easily one of my GOTYs. You don\\'t get any of that cliche game mechanics that all the latest games have, this is simply good core gameplay. Yes, you can\\'t 360 noscope your friends, but what you can do is show them up with your bad ‚ô•‚ô•‚ô• dance moves and put them to shame as you show them what true fashion and color combinations are.I know this game says for kids but, this is easily for any age range and any age will have a blast playing this.8/8'}",
         "user_id": "js41637",
         "user_url": "http://steamcommunity.com/id/js41637"
        },
        {
         "_deepnote_index_column": 2,
         "funny": "",
         "helpful": "No ratings yet",
         "item_id": "248820",
         "last_edited": "",
         "posted": "Posted February 3.",
         "recommend": "True",
         "review": "A suitably punishing roguelike platformer.  Winning feels good.  Progressive unlocks mean a good slog ending in failure doesn't feel like a waste.",
         "reviews": "{'funny': '', 'posted': 'Posted February 3.', 'last_edited': '', 'item_id': '248820', 'helpful': 'No ratings yet', 'recommend': True, 'review': \"A suitably punishing roguelike platformer.  Winning feels good.  Progressive unlocks mean a good slog ending in failure doesn't feel like a waste.\"}",
         "user_id": "evcentric",
         "user_url": "http://steamcommunity.com/id/evcentric"
        },
        {
         "_deepnote_index_column": 2,
         "funny": "",
         "helpful": "No ratings yet",
         "item_id": "370360",
         "last_edited": "Last edited December 5, 2015.",
         "posted": "Posted December 4, 2015.",
         "recommend": "True",
         "review": "\"Run for fun? What the hell kind of fun is that?\"",
         "reviews": "{'funny': '', 'posted': 'Posted February 3.', 'last_edited': '', 'item_id': '248820', 'helpful': 'No ratings yet', 'recommend': True, 'review': \"A suitably punishing roguelike platformer.  Winning feels good.  Progressive unlocks mean a good slog ending in failure doesn't feel like a waste.\"}",
         "user_id": "evcentric",
         "user_url": "http://steamcommunity.com/id/evcentric"
        },
        {
         "_deepnote_index_column": 2,
         "funny": "",
         "helpful": "No ratings yet",
         "item_id": "237930",
         "last_edited": "",
         "posted": "Posted November 3, 2014.",
         "recommend": "True",
         "review": "Elegant integration of gameplay, story, world development and aesthetic.",
         "reviews": "{'funny': '', 'posted': 'Posted February 3.', 'last_edited': '', 'item_id': '248820', 'helpful': 'No ratings yet', 'recommend': True, 'review': \"A suitably punishing roguelike platformer.  Winning feels good.  Progressive unlocks mean a good slog ending in failure doesn't feel like a waste.\"}",
         "user_id": "evcentric",
         "user_url": "http://steamcommunity.com/id/evcentric"
        },
        {
         "_deepnote_index_column": 2,
         "funny": "",
         "helpful": "No ratings yet",
         "item_id": "263360",
         "last_edited": "",
         "posted": "Posted October 15, 2014.",
         "recommend": "True",
         "review": "Random drops and random quests, with stat points.  Animation style reminiscent of the era before the Voodoo card.",
         "reviews": "{'funny': '', 'posted': 'Posted February 3.', 'last_edited': '', 'item_id': '248820', 'helpful': 'No ratings yet', 'recommend': True, 'review': \"A suitably punishing roguelike platformer.  Winning feels good.  Progressive unlocks mean a good slog ending in failure doesn't feel like a waste.\"}",
         "user_id": "evcentric",
         "user_url": "http://steamcommunity.com/id/evcentric"
        }
       ]
      },
      "text/html": [
       "<div>\n",
       "<style scoped>\n",
       "    .dataframe tbody tr th:only-of-type {\n",
       "        vertical-align: middle;\n",
       "    }\n",
       "\n",
       "    .dataframe tbody tr th {\n",
       "        vertical-align: top;\n",
       "    }\n",
       "\n",
       "    .dataframe thead th {\n",
       "        text-align: right;\n",
       "    }\n",
       "</style>\n",
       "<table border=\"1\" class=\"dataframe\">\n",
       "  <thead>\n",
       "    <tr style=\"text-align: right;\">\n",
       "      <th></th>\n",
       "      <th>user_id</th>\n",
       "      <th>user_url</th>\n",
       "      <th>reviews</th>\n",
       "      <th>funny</th>\n",
       "      <th>posted</th>\n",
       "      <th>last_edited</th>\n",
       "      <th>item_id</th>\n",
       "      <th>helpful</th>\n",
       "      <th>recommend</th>\n",
       "      <th>review</th>\n",
       "    </tr>\n",
       "  </thead>\n",
       "  <tbody>\n",
       "    <tr>\n",
       "      <th>0</th>\n",
       "      <td>76561197970982479</td>\n",
       "      <td>http://steamcommunity.com/profiles/76561197970...</td>\n",
       "      <td>{'funny': '', 'posted': 'Posted November 5, 20...</td>\n",
       "      <td></td>\n",
       "      <td>Posted November 5, 2011.</td>\n",
       "      <td></td>\n",
       "      <td>1250</td>\n",
       "      <td>No ratings yet</td>\n",
       "      <td>True</td>\n",
       "      <td>Simple yet with great replayability. In my opi...</td>\n",
       "    </tr>\n",
       "    <tr>\n",
       "      <th>0</th>\n",
       "      <td>76561197970982479</td>\n",
       "      <td>http://steamcommunity.com/profiles/76561197970...</td>\n",
       "      <td>{'funny': '', 'posted': 'Posted November 5, 20...</td>\n",
       "      <td></td>\n",
       "      <td>Posted July 15, 2011.</td>\n",
       "      <td></td>\n",
       "      <td>22200</td>\n",
       "      <td>No ratings yet</td>\n",
       "      <td>True</td>\n",
       "      <td>It's unique and worth a playthrough.</td>\n",
       "    </tr>\n",
       "    <tr>\n",
       "      <th>0</th>\n",
       "      <td>76561197970982479</td>\n",
       "      <td>http://steamcommunity.com/profiles/76561197970...</td>\n",
       "      <td>{'funny': '', 'posted': 'Posted November 5, 20...</td>\n",
       "      <td></td>\n",
       "      <td>Posted April 21, 2011.</td>\n",
       "      <td></td>\n",
       "      <td>43110</td>\n",
       "      <td>No ratings yet</td>\n",
       "      <td>True</td>\n",
       "      <td>Great atmosphere. The gunplay can be a bit chu...</td>\n",
       "    </tr>\n",
       "    <tr>\n",
       "      <th>1</th>\n",
       "      <td>js41637</td>\n",
       "      <td>http://steamcommunity.com/id/js41637</td>\n",
       "      <td>{'funny': '', 'posted': 'Posted June 24, 2014....</td>\n",
       "      <td></td>\n",
       "      <td>Posted June 24, 2014.</td>\n",
       "      <td></td>\n",
       "      <td>251610</td>\n",
       "      <td>15 of 20 people (75%) found this review helpful</td>\n",
       "      <td>True</td>\n",
       "      <td>I know what you think when you see this title ...</td>\n",
       "    </tr>\n",
       "    <tr>\n",
       "      <th>1</th>\n",
       "      <td>js41637</td>\n",
       "      <td>http://steamcommunity.com/id/js41637</td>\n",
       "      <td>{'funny': '', 'posted': 'Posted June 24, 2014....</td>\n",
       "      <td></td>\n",
       "      <td>Posted September 8, 2013.</td>\n",
       "      <td></td>\n",
       "      <td>227300</td>\n",
       "      <td>0 of 1 people (0%) found this review helpful</td>\n",
       "      <td>True</td>\n",
       "      <td>For a simple (it's actually not all that simpl...</td>\n",
       "    </tr>\n",
       "    <tr>\n",
       "      <th>...</th>\n",
       "      <td>...</td>\n",
       "      <td>...</td>\n",
       "      <td>...</td>\n",
       "      <td>...</td>\n",
       "      <td>...</td>\n",
       "      <td>...</td>\n",
       "      <td>...</td>\n",
       "      <td>...</td>\n",
       "      <td>...</td>\n",
       "      <td>...</td>\n",
       "    </tr>\n",
       "    <tr>\n",
       "      <th>25797</th>\n",
       "      <td>76561198312638244</td>\n",
       "      <td>http://steamcommunity.com/profiles/76561198312...</td>\n",
       "      <td>{'funny': '', 'posted': 'Posted July 21.', 'la...</td>\n",
       "      <td></td>\n",
       "      <td>Posted July 10.</td>\n",
       "      <td></td>\n",
       "      <td>130</td>\n",
       "      <td>No ratings yet</td>\n",
       "      <td>True</td>\n",
       "      <td>if you liked Half life i would really recommen...</td>\n",
       "    </tr>\n",
       "    <tr>\n",
       "      <th>25797</th>\n",
       "      <td>76561198312638244</td>\n",
       "      <td>http://steamcommunity.com/profiles/76561198312...</td>\n",
       "      <td>{'funny': '', 'posted': 'Posted July 21.', 'la...</td>\n",
       "      <td></td>\n",
       "      <td>Posted July 8.</td>\n",
       "      <td></td>\n",
       "      <td>362890</td>\n",
       "      <td>No ratings yet</td>\n",
       "      <td>True</td>\n",
       "      <td>this game is a perfect remake of the original ...</td>\n",
       "    </tr>\n",
       "    <tr>\n",
       "      <th>25798</th>\n",
       "      <td>LydiaMorley</td>\n",
       "      <td>http://steamcommunity.com/id/LydiaMorley</td>\n",
       "      <td>{'funny': '1 person found this review funny', ...</td>\n",
       "      <td>1 person found this review funny</td>\n",
       "      <td>Posted July 3.</td>\n",
       "      <td></td>\n",
       "      <td>273110</td>\n",
       "      <td>1 of 2 people (50%) found this review helpful</td>\n",
       "      <td>True</td>\n",
       "      <td>had so much fun plaing this and collecting res...</td>\n",
       "    </tr>\n",
       "    <tr>\n",
       "      <th>25798</th>\n",
       "      <td>LydiaMorley</td>\n",
       "      <td>http://steamcommunity.com/id/LydiaMorley</td>\n",
       "      <td>{'funny': '1 person found this review funny', ...</td>\n",
       "      <td></td>\n",
       "      <td>Posted July 20.</td>\n",
       "      <td></td>\n",
       "      <td>730</td>\n",
       "      <td>No ratings yet</td>\n",
       "      <td>True</td>\n",
       "      <td>:D</td>\n",
       "    </tr>\n",
       "    <tr>\n",
       "      <th>25798</th>\n",
       "      <td>LydiaMorley</td>\n",
       "      <td>http://steamcommunity.com/id/LydiaMorley</td>\n",
       "      <td>{'funny': '1 person found this review funny', ...</td>\n",
       "      <td></td>\n",
       "      <td>Posted July 2.</td>\n",
       "      <td></td>\n",
       "      <td>440</td>\n",
       "      <td>No ratings yet</td>\n",
       "      <td>True</td>\n",
       "      <td>so much fun :D</td>\n",
       "    </tr>\n",
       "  </tbody>\n",
       "</table>\n",
       "<p>54457 rows × 10 columns</p>\n",
       "</div>"
      ],
      "text/plain": [
       "                 user_id                                           user_url  \\\n",
       "0      76561197970982479  http://steamcommunity.com/profiles/76561197970...   \n",
       "0      76561197970982479  http://steamcommunity.com/profiles/76561197970...   \n",
       "0      76561197970982479  http://steamcommunity.com/profiles/76561197970...   \n",
       "1                js41637               http://steamcommunity.com/id/js41637   \n",
       "1                js41637               http://steamcommunity.com/id/js41637   \n",
       "...                  ...                                                ...   \n",
       "25797  76561198312638244  http://steamcommunity.com/profiles/76561198312...   \n",
       "25797  76561198312638244  http://steamcommunity.com/profiles/76561198312...   \n",
       "25798        LydiaMorley           http://steamcommunity.com/id/LydiaMorley   \n",
       "25798        LydiaMorley           http://steamcommunity.com/id/LydiaMorley   \n",
       "25798        LydiaMorley           http://steamcommunity.com/id/LydiaMorley   \n",
       "\n",
       "                                                 reviews  \\\n",
       "0      {'funny': '', 'posted': 'Posted November 5, 20...   \n",
       "0      {'funny': '', 'posted': 'Posted November 5, 20...   \n",
       "0      {'funny': '', 'posted': 'Posted November 5, 20...   \n",
       "1      {'funny': '', 'posted': 'Posted June 24, 2014....   \n",
       "1      {'funny': '', 'posted': 'Posted June 24, 2014....   \n",
       "...                                                  ...   \n",
       "25797  {'funny': '', 'posted': 'Posted July 21.', 'la...   \n",
       "25797  {'funny': '', 'posted': 'Posted July 21.', 'la...   \n",
       "25798  {'funny': '1 person found this review funny', ...   \n",
       "25798  {'funny': '1 person found this review funny', ...   \n",
       "25798  {'funny': '1 person found this review funny', ...   \n",
       "\n",
       "                                  funny                     posted  \\\n",
       "0                                         Posted November 5, 2011.   \n",
       "0                                            Posted July 15, 2011.   \n",
       "0                                           Posted April 21, 2011.   \n",
       "1                                            Posted June 24, 2014.   \n",
       "1                                        Posted September 8, 2013.   \n",
       "...                                 ...                        ...   \n",
       "25797                                              Posted July 10.   \n",
       "25797                                               Posted July 8.   \n",
       "25798  1 person found this review funny             Posted July 3.   \n",
       "25798                                              Posted July 20.   \n",
       "25798                                               Posted July 2.   \n",
       "\n",
       "      last_edited item_id                                          helpful  \\\n",
       "0                    1250                                   No ratings yet   \n",
       "0                   22200                                   No ratings yet   \n",
       "0                   43110                                   No ratings yet   \n",
       "1                  251610  15 of 20 people (75%) found this review helpful   \n",
       "1                  227300     0 of 1 people (0%) found this review helpful   \n",
       "...           ...     ...                                              ...   \n",
       "25797                 130                                   No ratings yet   \n",
       "25797              362890                                   No ratings yet   \n",
       "25798              273110    1 of 2 people (50%) found this review helpful   \n",
       "25798                 730                                   No ratings yet   \n",
       "25798                 440                                   No ratings yet   \n",
       "\n",
       "      recommend                                             review  \n",
       "0          True  Simple yet with great replayability. In my opi...  \n",
       "0          True               It's unique and worth a playthrough.  \n",
       "0          True  Great atmosphere. The gunplay can be a bit chu...  \n",
       "1          True  I know what you think when you see this title ...  \n",
       "1          True  For a simple (it's actually not all that simpl...  \n",
       "...         ...                                                ...  \n",
       "25797      True  if you liked Half life i would really recommen...  \n",
       "25797      True  this game is a perfect remake of the original ...  \n",
       "25798      True  had so much fun plaing this and collecting res...  \n",
       "25798      True                                                 :D  \n",
       "25798      True                                     so much fun :D  \n",
       "\n",
       "[54457 rows x 10 columns]"
      ]
     },
     "execution_count": 87,
     "metadata": {},
     "output_type": "execute_result"
    }
   ],
   "source": [
    "new_rows = []\n",
    "\n",
    "# Iterate over the dictionaries in the 'reviews' column\n",
    "for elemento, diccionario in df_user_reviews2['reviews'].items():\n",
    "    new_row = pd.DataFrame(diccionario, index=[elemento])  # Create a new row DataFrame\n",
    "    new_rows.append(new_row)  # Append the new row to the list\n",
    "\n",
    "# Concatenate the list of new rows with the original DataFrame\n",
    "result_df = pd.concat([df, *new_rows])\n",
    "\n",
    "# Reset index\n",
    "df_user_reviews3=df_user_reviews2.join(result_df)\n",
    "\n",
    "\n",
    "df_user_reviews3.drop_duplicates(subset=['user_id','posted'])\n"
   ]
  },
  {
   "block_group": "69f70d499f1a4516a7b34a2212ed8442",
   "cell_type": "code",
   "execution_count": null,
   "metadata": {
    "cell_id": "69f70d499f1a4516a7b34a2212ed8442",
    "deepnote_cell_type": "code",
    "deepnote_to_be_reexecuted": false,
    "execution_millis": 41,
    "execution_start": 1693340793640,
    "source_hash": null
   },
   "outputs": [],
   "source": [
    "df_user_reviews3.drop(columns=['reviews'],inplace=True)"
   ]
  },
  {
   "block_group": "e308ad817b6245c8a855bf250b4fea22",
   "cell_type": "code",
   "execution_count": null,
   "metadata": {
    "cell_id": "e308ad817b6245c8a855bf250b4fea22",
    "deepnote_cell_type": "code",
    "deepnote_to_be_reexecuted": false,
    "execution_millis": 166,
    "execution_start": 1693340857385,
    "source_hash": null
   },
   "outputs": [
    {
     "data": {
      "application/vnd.deepnote.dataframe.v3+json": {
       "column_count": 9,
       "columns": [
        {
         "dtype": "object",
         "name": "user_id"
        },
        {
         "dtype": "object",
         "name": "user_url"
        },
        {
         "dtype": "object",
         "name": "funny"
        },
        {
         "dtype": "object",
         "name": "posted"
        },
        {
         "dtype": "object",
         "name": "last_edited"
        },
        {
         "dtype": "object",
         "name": "item_id"
        },
        {
         "dtype": "object",
         "name": "helpful"
        },
        {
         "dtype": "object",
         "name": "recommend"
        },
        {
         "dtype": "object",
         "name": "review"
        },
        {
         "dtype": "int64",
         "name": "_deepnote_index_column"
        }
       ],
       "row_count": 240113,
       "rows": [
        {
         "_deepnote_index_column": 0,
         "funny": "",
         "helpful": "No ratings yet",
         "item_id": "1250",
         "last_edited": "",
         "posted": "Posted November 5, 2011.",
         "recommend": "True",
         "review": "Simple yet with great replayability. In my opinion does \"zombie\" hordes and team work better than left 4 dead plus has a global leveling system. Alot of down to earth \"zombie\" splattering fun for the whole family. Amazed this sort of FPS is so rare.",
         "user_id": "76561197970982479",
         "user_url": "http://steamcommunity.com/profiles/76561197970982479"
        },
        {
         "_deepnote_index_column": 0,
         "funny": "",
         "helpful": "No ratings yet",
         "item_id": "22200",
         "last_edited": "",
         "posted": "Posted July 15, 2011.",
         "recommend": "True",
         "review": "It's unique and worth a playthrough.",
         "user_id": "76561197970982479",
         "user_url": "http://steamcommunity.com/profiles/76561197970982479"
        },
        {
         "_deepnote_index_column": 0,
         "funny": "",
         "helpful": "No ratings yet",
         "item_id": "43110",
         "last_edited": "",
         "posted": "Posted April 21, 2011.",
         "recommend": "True",
         "review": "Great atmosphere. The gunplay can be a bit chunky at times but at the end of the day this game is definitely worth it and I hope they do a sequel...so buy the game so I get a sequel!",
         "user_id": "76561197970982479",
         "user_url": "http://steamcommunity.com/profiles/76561197970982479"
        },
        {
         "_deepnote_index_column": 0,
         "funny": "",
         "helpful": "No ratings yet",
         "item_id": "1250",
         "last_edited": "",
         "posted": "Posted November 5, 2011.",
         "recommend": "True",
         "review": "Simple yet with great replayability. In my opinion does \"zombie\" hordes and team work better than left 4 dead plus has a global leveling system. Alot of down to earth \"zombie\" splattering fun for the whole family. Amazed this sort of FPS is so rare.",
         "user_id": "76561197970982479",
         "user_url": "http://steamcommunity.com/profiles/76561197970982479"
        },
        {
         "_deepnote_index_column": 0,
         "funny": "",
         "helpful": "No ratings yet",
         "item_id": "22200",
         "last_edited": "",
         "posted": "Posted July 15, 2011.",
         "recommend": "True",
         "review": "It's unique and worth a playthrough.",
         "user_id": "76561197970982479",
         "user_url": "http://steamcommunity.com/profiles/76561197970982479"
        },
        {
         "_deepnote_index_column": 0,
         "funny": "",
         "helpful": "No ratings yet",
         "item_id": "43110",
         "last_edited": "",
         "posted": "Posted April 21, 2011.",
         "recommend": "True",
         "review": "Great atmosphere. The gunplay can be a bit chunky at times but at the end of the day this game is definitely worth it and I hope they do a sequel...so buy the game so I get a sequel!",
         "user_id": "76561197970982479",
         "user_url": "http://steamcommunity.com/profiles/76561197970982479"
        },
        {
         "_deepnote_index_column": 0,
         "funny": "",
         "helpful": "No ratings yet",
         "item_id": "1250",
         "last_edited": "",
         "posted": "Posted November 5, 2011.",
         "recommend": "True",
         "review": "Simple yet with great replayability. In my opinion does \"zombie\" hordes and team work better than left 4 dead plus has a global leveling system. Alot of down to earth \"zombie\" splattering fun for the whole family. Amazed this sort of FPS is so rare.",
         "user_id": "76561197970982479",
         "user_url": "http://steamcommunity.com/profiles/76561197970982479"
        },
        {
         "_deepnote_index_column": 0,
         "funny": "",
         "helpful": "No ratings yet",
         "item_id": "22200",
         "last_edited": "",
         "posted": "Posted July 15, 2011.",
         "recommend": "True",
         "review": "It's unique and worth a playthrough.",
         "user_id": "76561197970982479",
         "user_url": "http://steamcommunity.com/profiles/76561197970982479"
        },
        {
         "_deepnote_index_column": 0,
         "funny": "",
         "helpful": "No ratings yet",
         "item_id": "43110",
         "last_edited": "",
         "posted": "Posted April 21, 2011.",
         "recommend": "True",
         "review": "Great atmosphere. The gunplay can be a bit chunky at times but at the end of the day this game is definitely worth it and I hope they do a sequel...so buy the game so I get a sequel!",
         "user_id": "76561197970982479",
         "user_url": "http://steamcommunity.com/profiles/76561197970982479"
        },
        {
         "_deepnote_index_column": 1,
         "funny": "",
         "helpful": "15 of 20 people (75%) found this review helpful",
         "item_id": "251610",
         "last_edited": "",
         "posted": "Posted June 24, 2014.",
         "recommend": "True",
         "review": "I know what you think when you see this title \"Barbie Dreamhouse Party\" but do not be intimidated by it's title, this is easily one of my GOTYs. You don't get any of that cliche game mechanics that all the latest games have, this is simply good core gameplay. Yes, you can't 360 noscope your friends, but what you can do is show them up with your bad ‚ô•‚ô•‚ô• dance moves and put them to shame as you show them what true fashion and color combinations are.I know this game says for kids but, this is easily for any age range and any age will have a blast playing this.8/8",
         "user_id": "js41637",
         "user_url": "http://steamcommunity.com/id/js41637"
        }
       ]
      },
      "text/html": [
       "<div>\n",
       "<style scoped>\n",
       "    .dataframe tbody tr th:only-of-type {\n",
       "        vertical-align: middle;\n",
       "    }\n",
       "\n",
       "    .dataframe tbody tr th {\n",
       "        vertical-align: top;\n",
       "    }\n",
       "\n",
       "    .dataframe thead th {\n",
       "        text-align: right;\n",
       "    }\n",
       "</style>\n",
       "<table border=\"1\" class=\"dataframe\">\n",
       "  <thead>\n",
       "    <tr style=\"text-align: right;\">\n",
       "      <th></th>\n",
       "      <th>user_id</th>\n",
       "      <th>user_url</th>\n",
       "      <th>funny</th>\n",
       "      <th>posted</th>\n",
       "      <th>last_edited</th>\n",
       "      <th>item_id</th>\n",
       "      <th>helpful</th>\n",
       "      <th>recommend</th>\n",
       "      <th>review</th>\n",
       "    </tr>\n",
       "  </thead>\n",
       "  <tbody>\n",
       "    <tr>\n",
       "      <th>0</th>\n",
       "      <td>76561197970982479</td>\n",
       "      <td>http://steamcommunity.com/profiles/76561197970...</td>\n",
       "      <td></td>\n",
       "      <td>Posted November 5, 2011.</td>\n",
       "      <td></td>\n",
       "      <td>1250</td>\n",
       "      <td>No ratings yet</td>\n",
       "      <td>True</td>\n",
       "      <td>Simple yet with great replayability. In my opi...</td>\n",
       "    </tr>\n",
       "    <tr>\n",
       "      <th>0</th>\n",
       "      <td>76561197970982479</td>\n",
       "      <td>http://steamcommunity.com/profiles/76561197970...</td>\n",
       "      <td></td>\n",
       "      <td>Posted July 15, 2011.</td>\n",
       "      <td></td>\n",
       "      <td>22200</td>\n",
       "      <td>No ratings yet</td>\n",
       "      <td>True</td>\n",
       "      <td>It's unique and worth a playthrough.</td>\n",
       "    </tr>\n",
       "    <tr>\n",
       "      <th>0</th>\n",
       "      <td>76561197970982479</td>\n",
       "      <td>http://steamcommunity.com/profiles/76561197970...</td>\n",
       "      <td></td>\n",
       "      <td>Posted April 21, 2011.</td>\n",
       "      <td></td>\n",
       "      <td>43110</td>\n",
       "      <td>No ratings yet</td>\n",
       "      <td>True</td>\n",
       "      <td>Great atmosphere. The gunplay can be a bit chu...</td>\n",
       "    </tr>\n",
       "    <tr>\n",
       "      <th>0</th>\n",
       "      <td>76561197970982479</td>\n",
       "      <td>http://steamcommunity.com/profiles/76561197970...</td>\n",
       "      <td></td>\n",
       "      <td>Posted November 5, 2011.</td>\n",
       "      <td></td>\n",
       "      <td>1250</td>\n",
       "      <td>No ratings yet</td>\n",
       "      <td>True</td>\n",
       "      <td>Simple yet with great replayability. In my opi...</td>\n",
       "    </tr>\n",
       "    <tr>\n",
       "      <th>0</th>\n",
       "      <td>76561197970982479</td>\n",
       "      <td>http://steamcommunity.com/profiles/76561197970...</td>\n",
       "      <td></td>\n",
       "      <td>Posted July 15, 2011.</td>\n",
       "      <td></td>\n",
       "      <td>22200</td>\n",
       "      <td>No ratings yet</td>\n",
       "      <td>True</td>\n",
       "      <td>It's unique and worth a playthrough.</td>\n",
       "    </tr>\n",
       "    <tr>\n",
       "      <th>...</th>\n",
       "      <td>...</td>\n",
       "      <td>...</td>\n",
       "      <td>...</td>\n",
       "      <td>...</td>\n",
       "      <td>...</td>\n",
       "      <td>...</td>\n",
       "      <td>...</td>\n",
       "      <td>...</td>\n",
       "      <td>...</td>\n",
       "    </tr>\n",
       "    <tr>\n",
       "      <th>25798</th>\n",
       "      <td>LydiaMorley</td>\n",
       "      <td>http://steamcommunity.com/id/LydiaMorley</td>\n",
       "      <td></td>\n",
       "      <td>Posted July 20.</td>\n",
       "      <td></td>\n",
       "      <td>730</td>\n",
       "      <td>No ratings yet</td>\n",
       "      <td>True</td>\n",
       "      <td>:D</td>\n",
       "    </tr>\n",
       "    <tr>\n",
       "      <th>25798</th>\n",
       "      <td>LydiaMorley</td>\n",
       "      <td>http://steamcommunity.com/id/LydiaMorley</td>\n",
       "      <td></td>\n",
       "      <td>Posted July 2.</td>\n",
       "      <td></td>\n",
       "      <td>440</td>\n",
       "      <td>No ratings yet</td>\n",
       "      <td>True</td>\n",
       "      <td>so much fun :D</td>\n",
       "    </tr>\n",
       "    <tr>\n",
       "      <th>25798</th>\n",
       "      <td>LydiaMorley</td>\n",
       "      <td>http://steamcommunity.com/id/LydiaMorley</td>\n",
       "      <td>1 person found this review funny</td>\n",
       "      <td>Posted July 3.</td>\n",
       "      <td></td>\n",
       "      <td>273110</td>\n",
       "      <td>1 of 2 people (50%) found this review helpful</td>\n",
       "      <td>True</td>\n",
       "      <td>had so much fun plaing this and collecting res...</td>\n",
       "    </tr>\n",
       "    <tr>\n",
       "      <th>25798</th>\n",
       "      <td>LydiaMorley</td>\n",
       "      <td>http://steamcommunity.com/id/LydiaMorley</td>\n",
       "      <td></td>\n",
       "      <td>Posted July 20.</td>\n",
       "      <td></td>\n",
       "      <td>730</td>\n",
       "      <td>No ratings yet</td>\n",
       "      <td>True</td>\n",
       "      <td>:D</td>\n",
       "    </tr>\n",
       "    <tr>\n",
       "      <th>25798</th>\n",
       "      <td>LydiaMorley</td>\n",
       "      <td>http://steamcommunity.com/id/LydiaMorley</td>\n",
       "      <td></td>\n",
       "      <td>Posted July 2.</td>\n",
       "      <td></td>\n",
       "      <td>440</td>\n",
       "      <td>No ratings yet</td>\n",
       "      <td>True</td>\n",
       "      <td>so much fun :D</td>\n",
       "    </tr>\n",
       "  </tbody>\n",
       "</table>\n",
       "<p>240113 rows × 9 columns</p>\n",
       "</div>"
      ],
      "text/plain": [
       "                 user_id                                           user_url  \\\n",
       "0      76561197970982479  http://steamcommunity.com/profiles/76561197970...   \n",
       "0      76561197970982479  http://steamcommunity.com/profiles/76561197970...   \n",
       "0      76561197970982479  http://steamcommunity.com/profiles/76561197970...   \n",
       "0      76561197970982479  http://steamcommunity.com/profiles/76561197970...   \n",
       "0      76561197970982479  http://steamcommunity.com/profiles/76561197970...   \n",
       "...                  ...                                                ...   \n",
       "25798        LydiaMorley           http://steamcommunity.com/id/LydiaMorley   \n",
       "25798        LydiaMorley           http://steamcommunity.com/id/LydiaMorley   \n",
       "25798        LydiaMorley           http://steamcommunity.com/id/LydiaMorley   \n",
       "25798        LydiaMorley           http://steamcommunity.com/id/LydiaMorley   \n",
       "25798        LydiaMorley           http://steamcommunity.com/id/LydiaMorley   \n",
       "\n",
       "                                  funny                    posted last_edited  \\\n",
       "0                                        Posted November 5, 2011.               \n",
       "0                                           Posted July 15, 2011.               \n",
       "0                                          Posted April 21, 2011.               \n",
       "0                                        Posted November 5, 2011.               \n",
       "0                                           Posted July 15, 2011.               \n",
       "...                                 ...                       ...         ...   \n",
       "25798                                             Posted July 20.               \n",
       "25798                                              Posted July 2.               \n",
       "25798  1 person found this review funny            Posted July 3.               \n",
       "25798                                             Posted July 20.               \n",
       "25798                                              Posted July 2.               \n",
       "\n",
       "      item_id                                        helpful recommend  \\\n",
       "0        1250                                 No ratings yet      True   \n",
       "0       22200                                 No ratings yet      True   \n",
       "0       43110                                 No ratings yet      True   \n",
       "0        1250                                 No ratings yet      True   \n",
       "0       22200                                 No ratings yet      True   \n",
       "...       ...                                            ...       ...   \n",
       "25798     730                                 No ratings yet      True   \n",
       "25798     440                                 No ratings yet      True   \n",
       "25798  273110  1 of 2 people (50%) found this review helpful      True   \n",
       "25798     730                                 No ratings yet      True   \n",
       "25798     440                                 No ratings yet      True   \n",
       "\n",
       "                                                  review  \n",
       "0      Simple yet with great replayability. In my opi...  \n",
       "0                   It's unique and worth a playthrough.  \n",
       "0      Great atmosphere. The gunplay can be a bit chu...  \n",
       "0      Simple yet with great replayability. In my opi...  \n",
       "0                   It's unique and worth a playthrough.  \n",
       "...                                                  ...  \n",
       "25798                                                 :D  \n",
       "25798                                     so much fun :D  \n",
       "25798  had so much fun plaing this and collecting res...  \n",
       "25798                                                 :D  \n",
       "25798                                     so much fun :D  \n",
       "\n",
       "[240113 rows x 9 columns]"
      ]
     },
     "execution_count": 89,
     "metadata": {},
     "output_type": "execute_result"
    }
   ],
   "source": [
    "df_user_reviews3"
   ]
  },
  {
   "cell_type": "markdown",
   "metadata": {
    "created_in_deepnote_cell": true,
    "deepnote_cell_type": "markdown"
   },
   "source": [
    "<a style='text-decoration:none;line-height:16px;display:flex;color:#5B5B62;padding:10px;justify-content:end;' href='https://deepnote.com?utm_source=created-in-deepnote-cell&projectId=4524ba11-496a-41e2-81b8-05103cd32615' target=\"_blank\">\n",
    "<img alt='Created in deepnote.com' style='display:inline;max-height:16px;margin:0px;margin-right:7.5px;' src='data:image/svg+xml;base64,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' > </img>\n",
    "Created in <span style='font-weight:600;margin-left:4px;'>Deepnote</span></a>"
   ]
  }
 ],
 "metadata": {
  "deepnote": {},
  "deepnote_execution_queue": [],
  "deepnote_notebook_id": "ae2394aab54e4c6992311263b2c4cef3"
 },
 "nbformat": 4,
 "nbformat_minor": 0
}
