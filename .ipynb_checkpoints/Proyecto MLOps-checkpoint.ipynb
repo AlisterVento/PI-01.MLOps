{
 "cells": [
  {
   "block_group": "7434d156dfbd42628d2388bc8c99ccf5",
   "cell_type": "markdown",
   "metadata": {
    "cell_id": "75f955aed6274a1ea411f1bd7e62d4d1",
    "deepnote_cell_type": "markdown"
   },
   "source": [
    "# Proyecto Integrador de MLOps"
   ]
  },
  {
   "block_group": "0100d3f1746846e997cac8d989a2fce6",
   "cell_type": "markdown",
   "metadata": {
    "cell_id": "1796cce12dc24b94b7368df47db26b61",
    "deepnote_cell_type": "markdown"
   },
   "source": [
    "## 1.Cargando las librerías necesarias"
   ]
  },
  {
   "block_group": "d6bf90a5895e4ee8ad6d03567520171a",
   "cell_type": "code",
   "execution_count": null,
   "metadata": {
    "cell_id": "58343f05706744ae83f7d3d074fb2859",
    "deepnote_cell_type": "code",
    "deepnote_to_be_reexecuted": false,
    "execution_millis": 1874,
    "execution_start": 1693321215857,
    "source_hash": null
   },
   "outputs": [],
   "source": [
    "import pandas as pd #Cargaremos pandas para manejar los datos\",\n",
    "import numpy as np #Cargaremos numpy para manejar los datos,\n",
    "import json as json  #Cargaremos json para manejar los datos\",\n",
    "import gzip #Cargaremos gzip para manejar los datos,\n",
    "import ast\n",
    "import matplotlib.pyplot as plt  #Cargaremos matplotlib para graficar\",\n",
    "import seaborn as sns  #Cargaremos seaborn para graficar\",\n",
    "from sklearn.model_selection import train_test_split  #Cargaremos train_test_split para dividir los datos\",\n",
    "from sklearn.linear_model import LinearRegression  #Cargaremos LinearRegression para entrenar el modelo\",\n",
    "from sklearn.metrics import mean_squared_error, r2_score  #Cargaremos mean_squared_error y r2_score para evaluar el modelo\""
   ]
  },
  {
   "block_group": "67cbc73ba1ba41c88693d5dddc8e219c",
   "cell_type": "markdown",
   "metadata": {
    "cell_id": "156284af3d814812b39537d936aac58c",
    "deepnote_cell_type": "markdown"
   },
   "source": [
    "## 2.Carga de Datos"
   ]
  },
  {
   "block_group": "54cec1d567c541c9b5e99bf8f24b5f46",
   "cell_type": "markdown",
   "metadata": {
    "cell_id": "953530f6841e4c55916c2a2da4e60380",
    "deepnote_cell_type": "markdown"
   },
   "source": [
    "Cargaremos los 3 set de datos que se nos muestra :\n",
    "- •steam_games.json\n",
    "- •user_review.json\n",
    "- •user_items.json"
   ]
  },
  {
   "block_group": "020dafa62f3f499c9870b1d35b467ee8",
   "cell_type": "code",
   "execution_count": null,
   "metadata": {
    "cell_id": "020dafa62f3f499c9870b1d35b467ee8",
    "deepnote_cell_type": "code",
    "deepnote_to_be_reexecuted": false,
    "execution_millis": 12,
    "execution_start": 1693321217647,
    "source_hash": null
   },
   "outputs": [],
   "source": [
    "url01=r'/work/PI-01.MLOps/Datos/steam_games.json.gz'\n",
    "url02=r'/work/PI-01.MLOps/Datos/user_reviews.json.gz'\n",
    "url03=r'/work/PI-01.MLOps/Datos/users_items.json.gz'"
   ]
  },
  {
   "block_group": "9f420a8bffeb4895b5f2b9fb9ccfbe35",
   "cell_type": "code",
   "execution_count": null,
   "metadata": {
    "cell_id": "9f420a8bffeb4895b5f2b9fb9ccfbe35",
    "deepnote_cell_type": "code",
    "deepnote_to_be_reexecuted": false,
    "execution_millis": 2306,
    "execution_start": 1693321217655,
    "source_hash": null
   },
   "outputs": [
    {
     "data": {
      "application/vnd.deepnote.dataframe.v3+json": {
       "column_count": 13,
       "columns": [
        {
         "dtype": "object",
         "name": "publisher",
         "stats": {
          "categories": [
           {
            "count": 5,
            "name": "Missing"
           }
          ],
          "nan_count": 5,
          "unique_count": 0
         }
        },
        {
         "dtype": "object",
         "name": "genres",
         "stats": {
          "categories": [
           {
            "count": 5,
            "name": "Missing"
           }
          ],
          "nan_count": 5,
          "unique_count": 0
         }
        },
        {
         "dtype": "object",
         "name": "app_name",
         "stats": {
          "categories": [
           {
            "count": 5,
            "name": "Missing"
           }
          ],
          "nan_count": 5,
          "unique_count": 0
         }
        },
        {
         "dtype": "object",
         "name": "title",
         "stats": {
          "categories": [
           {
            "count": 5,
            "name": "Missing"
           }
          ],
          "nan_count": 5,
          "unique_count": 0
         }
        },
        {
         "dtype": "object",
         "name": "url",
         "stats": {
          "categories": [
           {
            "count": 5,
            "name": "Missing"
           }
          ],
          "nan_count": 5,
          "unique_count": 0
         }
        },
        {
         "dtype": "object",
         "name": "release_date",
         "stats": {
          "categories": [
           {
            "count": 5,
            "name": "Missing"
           }
          ],
          "nan_count": 5,
          "unique_count": 0
         }
        },
        {
         "dtype": "object",
         "name": "tags",
         "stats": {
          "categories": [
           {
            "count": 5,
            "name": "Missing"
           }
          ],
          "nan_count": 5,
          "unique_count": 0
         }
        },
        {
         "dtype": "object",
         "name": "reviews_url",
         "stats": {
          "categories": [
           {
            "count": 5,
            "name": "Missing"
           }
          ],
          "nan_count": 5,
          "unique_count": 0
         }
        },
        {
         "dtype": "object",
         "name": "specs",
         "stats": {
          "categories": [
           {
            "count": 5,
            "name": "Missing"
           }
          ],
          "nan_count": 5,
          "unique_count": 0
         }
        },
        {
         "dtype": "object",
         "name": "price",
         "stats": {
          "categories": [
           {
            "count": 5,
            "name": "Missing"
           }
          ],
          "nan_count": 5,
          "unique_count": 0
         }
        },
        {
         "dtype": "float64",
         "name": "early_access",
         "stats": {
          "histogram": [
           {
            "bin_end": 0.1,
            "bin_start": 0,
            "count": 0
           },
           {
            "bin_end": 0.2,
            "bin_start": 0.1,
            "count": 0
           },
           {
            "bin_end": 0.30000000000000004,
            "bin_start": 0.2,
            "count": 0
           },
           {
            "bin_end": 0.4,
            "bin_start": 0.30000000000000004,
            "count": 0
           },
           {
            "bin_end": 0.5,
            "bin_start": 0.4,
            "count": 0
           },
           {
            "bin_end": 0.6000000000000001,
            "bin_start": 0.5,
            "count": 0
           },
           {
            "bin_end": 0.7000000000000001,
            "bin_start": 0.6000000000000001,
            "count": 0
           },
           {
            "bin_end": 0.8,
            "bin_start": 0.7000000000000001,
            "count": 0
           },
           {
            "bin_end": 0.9,
            "bin_start": 0.8,
            "count": 0
           },
           {
            "bin_end": 1,
            "bin_start": 0.9,
            "count": 0
           }
          ],
          "max": null,
          "min": null,
          "nan_count": 5,
          "unique_count": 0
         }
        },
        {
         "dtype": "float64",
         "name": "id",
         "stats": {
          "histogram": [
           {
            "bin_end": 0.1,
            "bin_start": 0,
            "count": 0
           },
           {
            "bin_end": 0.2,
            "bin_start": 0.1,
            "count": 0
           },
           {
            "bin_end": 0.30000000000000004,
            "bin_start": 0.2,
            "count": 0
           },
           {
            "bin_end": 0.4,
            "bin_start": 0.30000000000000004,
            "count": 0
           },
           {
            "bin_end": 0.5,
            "bin_start": 0.4,
            "count": 0
           },
           {
            "bin_end": 0.6000000000000001,
            "bin_start": 0.5,
            "count": 0
           },
           {
            "bin_end": 0.7000000000000001,
            "bin_start": 0.6000000000000001,
            "count": 0
           },
           {
            "bin_end": 0.8,
            "bin_start": 0.7000000000000001,
            "count": 0
           },
           {
            "bin_end": 0.9,
            "bin_start": 0.8,
            "count": 0
           },
           {
            "bin_end": 1,
            "bin_start": 0.9,
            "count": 0
           }
          ],
          "max": null,
          "min": null,
          "nan_count": 5,
          "unique_count": 0
         }
        },
        {
         "dtype": "object",
         "name": "developer",
         "stats": {
          "categories": [
           {
            "count": 5,
            "name": "Missing"
           }
          ],
          "nan_count": 5,
          "unique_count": 0
         }
        },
        {
         "dtype": "int64",
         "name": "_deepnote_index_column"
        }
       ],
       "row_count": 5,
       "rows": [
        {
         "_deepnote_index_column": 0,
         "app_name": "None",
         "developer": "None",
         "early_access": "nan",
         "genres": "None",
         "id": "nan",
         "price": "None",
         "publisher": "None",
         "release_date": "None",
         "reviews_url": "None",
         "specs": "None",
         "tags": "None",
         "title": "None",
         "url": "None"
        },
        {
         "_deepnote_index_column": 1,
         "app_name": "None",
         "developer": "None",
         "early_access": "nan",
         "genres": "None",
         "id": "nan",
         "price": "None",
         "publisher": "None",
         "release_date": "None",
         "reviews_url": "None",
         "specs": "None",
         "tags": "None",
         "title": "None",
         "url": "None"
        },
        {
         "_deepnote_index_column": 2,
         "app_name": "None",
         "developer": "None",
         "early_access": "nan",
         "genres": "None",
         "id": "nan",
         "price": "None",
         "publisher": "None",
         "release_date": "None",
         "reviews_url": "None",
         "specs": "None",
         "tags": "None",
         "title": "None",
         "url": "None"
        },
        {
         "_deepnote_index_column": 3,
         "app_name": "None",
         "developer": "None",
         "early_access": "nan",
         "genres": "None",
         "id": "nan",
         "price": "None",
         "publisher": "None",
         "release_date": "None",
         "reviews_url": "None",
         "specs": "None",
         "tags": "None",
         "title": "None",
         "url": "None"
        },
        {
         "_deepnote_index_column": 4,
         "app_name": "None",
         "developer": "None",
         "early_access": "nan",
         "genres": "None",
         "id": "nan",
         "price": "None",
         "publisher": "None",
         "release_date": "None",
         "reviews_url": "None",
         "specs": "None",
         "tags": "None",
         "title": "None",
         "url": "None"
        }
       ]
      },
      "text/html": [
       "<div>\n",
       "<style scoped>\n",
       "    .dataframe tbody tr th:only-of-type {\n",
       "        vertical-align: middle;\n",
       "    }\n",
       "\n",
       "    .dataframe tbody tr th {\n",
       "        vertical-align: top;\n",
       "    }\n",
       "\n",
       "    .dataframe thead th {\n",
       "        text-align: right;\n",
       "    }\n",
       "</style>\n",
       "<table border=\"1\" class=\"dataframe\">\n",
       "  <thead>\n",
       "    <tr style=\"text-align: right;\">\n",
       "      <th></th>\n",
       "      <th>publisher</th>\n",
       "      <th>genres</th>\n",
       "      <th>app_name</th>\n",
       "      <th>title</th>\n",
       "      <th>url</th>\n",
       "      <th>release_date</th>\n",
       "      <th>tags</th>\n",
       "      <th>reviews_url</th>\n",
       "      <th>specs</th>\n",
       "      <th>price</th>\n",
       "      <th>early_access</th>\n",
       "      <th>id</th>\n",
       "      <th>developer</th>\n",
       "    </tr>\n",
       "  </thead>\n",
       "  <tbody>\n",
       "    <tr>\n",
       "      <th>0</th>\n",
       "      <td>None</td>\n",
       "      <td>None</td>\n",
       "      <td>None</td>\n",
       "      <td>None</td>\n",
       "      <td>None</td>\n",
       "      <td>None</td>\n",
       "      <td>None</td>\n",
       "      <td>None</td>\n",
       "      <td>None</td>\n",
       "      <td>None</td>\n",
       "      <td>NaN</td>\n",
       "      <td>NaN</td>\n",
       "      <td>None</td>\n",
       "    </tr>\n",
       "    <tr>\n",
       "      <th>1</th>\n",
       "      <td>None</td>\n",
       "      <td>None</td>\n",
       "      <td>None</td>\n",
       "      <td>None</td>\n",
       "      <td>None</td>\n",
       "      <td>None</td>\n",
       "      <td>None</td>\n",
       "      <td>None</td>\n",
       "      <td>None</td>\n",
       "      <td>None</td>\n",
       "      <td>NaN</td>\n",
       "      <td>NaN</td>\n",
       "      <td>None</td>\n",
       "    </tr>\n",
       "    <tr>\n",
       "      <th>2</th>\n",
       "      <td>None</td>\n",
       "      <td>None</td>\n",
       "      <td>None</td>\n",
       "      <td>None</td>\n",
       "      <td>None</td>\n",
       "      <td>None</td>\n",
       "      <td>None</td>\n",
       "      <td>None</td>\n",
       "      <td>None</td>\n",
       "      <td>None</td>\n",
       "      <td>NaN</td>\n",
       "      <td>NaN</td>\n",
       "      <td>None</td>\n",
       "    </tr>\n",
       "    <tr>\n",
       "      <th>3</th>\n",
       "      <td>None</td>\n",
       "      <td>None</td>\n",
       "      <td>None</td>\n",
       "      <td>None</td>\n",
       "      <td>None</td>\n",
       "      <td>None</td>\n",
       "      <td>None</td>\n",
       "      <td>None</td>\n",
       "      <td>None</td>\n",
       "      <td>None</td>\n",
       "      <td>NaN</td>\n",
       "      <td>NaN</td>\n",
       "      <td>None</td>\n",
       "    </tr>\n",
       "    <tr>\n",
       "      <th>4</th>\n",
       "      <td>None</td>\n",
       "      <td>None</td>\n",
       "      <td>None</td>\n",
       "      <td>None</td>\n",
       "      <td>None</td>\n",
       "      <td>None</td>\n",
       "      <td>None</td>\n",
       "      <td>None</td>\n",
       "      <td>None</td>\n",
       "      <td>None</td>\n",
       "      <td>NaN</td>\n",
       "      <td>NaN</td>\n",
       "      <td>None</td>\n",
       "    </tr>\n",
       "  </tbody>\n",
       "</table>\n",
       "</div>"
      ],
      "text/plain": [
       "  publisher genres app_name title   url release_date  tags reviews_url specs  \\\n",
       "0      None   None     None  None  None         None  None        None  None   \n",
       "1      None   None     None  None  None         None  None        None  None   \n",
       "2      None   None     None  None  None         None  None        None  None   \n",
       "3      None   None     None  None  None         None  None        None  None   \n",
       "4      None   None     None  None  None         None  None        None  None   \n",
       "\n",
       "  price  early_access  id developer  \n",
       "0  None           NaN NaN      None  \n",
       "1  None           NaN NaN      None  \n",
       "2  None           NaN NaN      None  \n",
       "3  None           NaN NaN      None  \n",
       "4  None           NaN NaN      None  "
      ]
     },
     "execution_count": 3,
     "metadata": {},
     "output_type": "execute_result"
    }
   ],
   "source": [
    "#al revisar los archivos nos damos cuenta que el archivo 1 es diferente a los otros 2 por tanto usaremos otro proceso\n",
    "df_steam_games=pd.read_json(url01,lines=True)\n",
    "df_steam_games.head()"
   ]
  },
  {
   "block_group": "cd3a075d07954ad9ba90fa043a74fc3c",
   "cell_type": "code",
   "execution_count": null,
   "metadata": {
    "cell_id": "cd3a075d07954ad9ba90fa043a74fc3c",
    "deepnote_cell_type": "code",
    "deepnote_to_be_reexecuted": false,
    "execution_millis": 2497,
    "execution_start": 1693321219059,
    "source_hash": null
   },
   "outputs": [
    {
     "data": {
      "application/vnd.deepnote.dataframe.v3+json": {
       "column_count": 3,
       "columns": [
        {
         "dtype": "object",
         "name": "user_id",
         "stats": {
          "categories": [
           {
            "count": 1,
            "name": "76561197970982479"
           },
           {
            "count": 1,
            "name": "js41637"
           },
           {
            "count": 3,
            "name": "3 others"
           }
          ],
          "nan_count": 0,
          "unique_count": 5
         }
        },
        {
         "dtype": "object",
         "name": "user_url",
         "stats": {
          "categories": [
           {
            "count": 1,
            "name": "http://steamcommunity.com/profiles/76561197970982479"
           },
           {
            "count": 1,
            "name": "http://steamcommunity.com/id/js41637"
           },
           {
            "count": 3,
            "name": "3 others"
           }
          ],
          "nan_count": 0,
          "unique_count": 5
         }
        },
        {
         "dtype": "object",
         "name": "reviews",
         "stats": {
          "categories": [
           {
            "count": 1,
            "name": "[{'funny': '', 'posted': 'Posted November 5, 2011.', 'last_edited': '', 'item_id': '1250', 'helpful': 'No ratings yet', 'recommend': True, 'review': 'Simple yet with great replayability. In my opinion does \"zombie\" hordes and team work better than left 4 dead plus has a global leveling system. Alot of down to earth \"zombie\" splattering fun for the whole family. Amazed this sort of FPS is so rare.'}, {'funny': '', 'posted': 'Posted July 15, 2011.', 'last_edited': '', 'item_id': '22200', 'helpful': 'No ratings yet', 'recommend': True, 'review': \"It's unique and worth a playthrough.\"}, {'funny': '', 'posted': 'Posted April 21, 2011.', 'last_edited': '', 'item_id': '43110', 'helpful': 'No ratings yet', 'recommend': True, 'review': 'Great atmosphere. The gunplay can be a bit chunky at times but at the end of the day this game is definitely worth it and I hope they do a sequel...so buy the game so I get a sequel!'}]"
           },
           {
            "count": 1,
            "name": "[{'funny': '', 'posted': 'Posted June 24, 2014.', 'last_edited': '', 'item_id': '251610', 'helpful': '15 of 20 people (75%) found this review helpful', 'recommend': True, 'review': 'I know what you think when you see this title \"Barbie Dreamhouse Party\" but do not be intimidated by it\\'s title, this is easily one of my GOTYs. You don\\'t get any of that cliche game mechanics that all the latest games have, this is simply good core gameplay. Yes, you can\\'t 360 noscope your friends, but what you can do is show them up with your bad ♥♥♥ dance moves and put them to shame as you show them what true fashion and color combinations are.I know this game says for kids but, this is easily for any age range and any age will have a blast playing this.8/8'}, {'funny': '', 'posted': 'Posted September 8, 2013.', 'last_edited': '', 'item_id': '227300', 'helpful': '0 of 1 people (0%) found this review helpful', 'recommend': True, 'review': \"For a simple (it's actually not all that simple but it can be!) truck driving Simulator, it is quite a fun and relaxing game. Playing on simple (or easy?) its just the basic WASD keys for driving but (if you want) the game can be much harder and realistic with having to manually change gears, much harder turning, etc. And reversing in this game is a ♥♥♥♥♥, as I imagine it would be with an actual truck. Luckily, you don't have to reverse park it but you get extra points if you do cause it is bloody hard. But this is suprisingly a nice truck driving game and I had a bit of fun with it.\"}, {'funny': '', 'posted': 'Posted November 29, 2013.', 'last_edited': '', 'item_id': '239030', 'helpful': '1 of 4 people (25%) found this review helpful', 'recommend': True, 'review': 'Very fun little game to play when your bored or as a time passer. Very gud. Do Recommend. pls buy'}]"
           },
           {
            "count": 3,
            "name": "3 others"
           }
          ],
          "nan_count": 0,
          "unique_count": 5
         }
        },
        {
         "dtype": "int64",
         "name": "_deepnote_index_column"
        }
       ],
       "row_count": 5,
       "rows": [
        {
         "_deepnote_index_column": 0,
         "reviews": "[{'funny': '', 'posted': 'Posted November 5, 2011.', 'last_edited': '', 'item_id': '1250', 'helpful': 'No ratings yet', 'recommend': True, 'review': 'Simple yet with great replayability. In my opinion does \"zombie\" hordes and team work better than left 4 dead plus has a global leveling system. Alot of down to earth \"zombie\" splattering fun for the whole family. Amazed this sort of FPS is so rare.'}, {'funny': '', 'posted': 'Posted July 15, 2011.', 'last_edited': '', 'item_id': '22200', 'helpful': 'No ratings yet', 'recommend': True, 'review': \"It's unique and worth a playthrough.\"}, {'funny': '', 'posted': 'Posted April 21, 2011.', 'last_edited': '', 'item_id': '43110', 'helpful': 'No ratings yet', 'recommend': True, 'review': 'Great atmosphere. The gunplay can be a bit chunky at times but at the end of the day this game is definitely worth it and I hope they do a sequel...so buy the game so I get a sequel!'}]",
         "user_id": "76561197970982479",
         "user_url": "http://steamcommunity.com/profiles/76561197970982479"
        },
        {
         "_deepnote_index_column": 1,
         "reviews": "[{'funny': '', 'posted': 'Posted June 24, 2014.', 'last_edited': '', 'item_id': '251610', 'helpful': '15 of 20 people (75%) found this review helpful', 'recommend': True, 'review': 'I know what you think when you see this title \"Barbie Dreamhouse Party\" but do not be intimidated by it\\'s title, this is easily one of my GOTYs. You don\\'t get any of that cliche game mechanics that all the latest games have, this is simply good core gameplay. Yes, you can\\'t 360 noscope your friends, but what you can do is show them up with your bad ♥♥♥ dance moves and put them to shame as you show them what true fashion and color combinations are.I know this game says for kids but, this is easily for any age range and any age will have a blast playing this.8/8'}, {'funny': '', 'posted': 'Posted September 8, 2013.', 'last_edited': '', 'item_id': '227300', 'helpful': '0 of 1 people (0%) found this review helpful', 'recommend': True, 'review': \"For a simple (it's actually not all that simple but it can be!…",
         "user_id": "js41637",
         "user_url": "http://steamcommunity.com/id/js41637"
        },
        {
         "_deepnote_index_column": 2,
         "reviews": "[{'funny': '', 'posted': 'Posted February 3.', 'last_edited': '', 'item_id': '248820', 'helpful': 'No ratings yet', 'recommend': True, 'review': \"A suitably punishing roguelike platformer.  Winning feels good.  Progressive unlocks mean a good slog ending in failure doesn't feel like a waste.\"}, {'funny': '', 'posted': 'Posted December 4, 2015.', 'last_edited': 'Last edited December 5, 2015.', 'item_id': '370360', 'helpful': 'No ratings yet', 'recommend': True, 'review': '\"Run for fun? What the hell kind of fun is that?\"'}, {'funny': '', 'posted': 'Posted November 3, 2014.', 'last_edited': '', 'item_id': '237930', 'helpful': 'No ratings yet', 'recommend': True, 'review': 'Elegant integration of gameplay, story, world development and aesthetic.'}, {'funny': '', 'posted': 'Posted October 15, 2014.', 'last_edited': '', 'item_id': '263360', 'helpful': 'No ratings yet', 'recommend': True, 'review': 'Random drops and random quests, with stat points.  Animation style reminiscent of the era be…",
         "user_id": "evcentric",
         "user_url": "http://steamcommunity.com/id/evcentric"
        },
        {
         "_deepnote_index_column": 3,
         "reviews": "[{'funny': '', 'posted': 'Posted October 14, 2013.', 'last_edited': '', 'item_id': '250320', 'helpful': '2 of 2 people (100%) found this review helpful', 'recommend': True, 'review': 'This game... is so fun. The fight sequences have been improved from walking dead. It also includes more of a Sam and Max puzzle solving (some of it in the first episode) and walking dead. The game also gets even more better if you have read the Fables comic books, which are without a doubt, very good. The music is also superb and fit the scenarios very well.'}, {'funny': '', 'posted': 'Posted July 28, 2012.', 'last_edited': '', 'item_id': '20920', 'helpful': '1 of 1 people (100%) found this review helpful', 'recommend': True, 'review': \"Really Really Really Great Game, very good story, im in chapter 1 atm and i think its great. You get a really early link with characters. No need to play the first game, its nicely wrapped up for you in a five minute video. FYI beware of the sex scenes :P, nudity does hap…",
         "user_id": "doctr",
         "user_url": "http://steamcommunity.com/id/doctr"
        },
        {
         "_deepnote_index_column": 4,
         "reviews": "[{'funny': '3 people found this review funny', 'posted': 'Posted April 15, 2014.', 'last_edited': '', 'item_id': '211420', 'helpful': '35 of 43 people (81%) found this review helpful', 'recommend': True, 'review': 'Git gud'}, {'funny': '1 person found this review funny', 'posted': 'Posted December 23, 2013.', 'last_edited': '', 'item_id': '211820', 'helpful': '12 of 16 people (75%) found this review helpful', 'recommend': True, 'review': \"It's like Terraria, you play for 9 hours straight, get endgame armour then stop playing until the next update.\"}, {'funny': '2 people found this review funny', 'posted': 'Posted March 14, 2014.', 'last_edited': '', 'item_id': '730', 'helpful': '5 of 5 people (100%) found this review helpful', 'recommend': True, 'review': 'Hold shift to win, Hold CTRL to lose.'}, {'funny': '', 'posted': 'Posted July 11, 2013.', 'last_edited': '', 'item_id': '204300', 'helpful': 'No ratings yet', 'recommend': True, 'review': \"OH YES, THIS GAME IS THE BEST, THEY ADD STU…",
         "user_id": "maplemage",
         "user_url": "http://steamcommunity.com/id/maplemage"
        }
       ]
      },
      "text/html": [
       "<div>\n",
       "<style scoped>\n",
       "    .dataframe tbody tr th:only-of-type {\n",
       "        vertical-align: middle;\n",
       "    }\n",
       "\n",
       "    .dataframe tbody tr th {\n",
       "        vertical-align: top;\n",
       "    }\n",
       "\n",
       "    .dataframe thead th {\n",
       "        text-align: right;\n",
       "    }\n",
       "</style>\n",
       "<table border=\"1\" class=\"dataframe\">\n",
       "  <thead>\n",
       "    <tr style=\"text-align: right;\">\n",
       "      <th></th>\n",
       "      <th>user_id</th>\n",
       "      <th>user_url</th>\n",
       "      <th>reviews</th>\n",
       "    </tr>\n",
       "  </thead>\n",
       "  <tbody>\n",
       "    <tr>\n",
       "      <th>0</th>\n",
       "      <td>76561197970982479</td>\n",
       "      <td>http://steamcommunity.com/profiles/76561197970...</td>\n",
       "      <td>[{'funny': '', 'posted': 'Posted November 5, 2...</td>\n",
       "    </tr>\n",
       "    <tr>\n",
       "      <th>1</th>\n",
       "      <td>js41637</td>\n",
       "      <td>http://steamcommunity.com/id/js41637</td>\n",
       "      <td>[{'funny': '', 'posted': 'Posted June 24, 2014...</td>\n",
       "    </tr>\n",
       "    <tr>\n",
       "      <th>2</th>\n",
       "      <td>evcentric</td>\n",
       "      <td>http://steamcommunity.com/id/evcentric</td>\n",
       "      <td>[{'funny': '', 'posted': 'Posted February 3.',...</td>\n",
       "    </tr>\n",
       "    <tr>\n",
       "      <th>3</th>\n",
       "      <td>doctr</td>\n",
       "      <td>http://steamcommunity.com/id/doctr</td>\n",
       "      <td>[{'funny': '', 'posted': 'Posted October 14, 2...</td>\n",
       "    </tr>\n",
       "    <tr>\n",
       "      <th>4</th>\n",
       "      <td>maplemage</td>\n",
       "      <td>http://steamcommunity.com/id/maplemage</td>\n",
       "      <td>[{'funny': '3 people found this review funny',...</td>\n",
       "    </tr>\n",
       "  </tbody>\n",
       "</table>\n",
       "</div>"
      ],
      "text/plain": [
       "             user_id                                           user_url  \\\n",
       "0  76561197970982479  http://steamcommunity.com/profiles/76561197970...   \n",
       "1            js41637               http://steamcommunity.com/id/js41637   \n",
       "2          evcentric             http://steamcommunity.com/id/evcentric   \n",
       "3              doctr                 http://steamcommunity.com/id/doctr   \n",
       "4          maplemage             http://steamcommunity.com/id/maplemage   \n",
       "\n",
       "                                             reviews  \n",
       "0  [{'funny': '', 'posted': 'Posted November 5, 2...  \n",
       "1  [{'funny': '', 'posted': 'Posted June 24, 2014...  \n",
       "2  [{'funny': '', 'posted': 'Posted February 3.',...  \n",
       "3  [{'funny': '', 'posted': 'Posted October 14, 2...  \n",
       "4  [{'funny': '3 people found this review funny',...  "
      ]
     },
     "execution_count": 4,
     "metadata": {},
     "output_type": "execute_result"
    }
   ],
   "source": [
    "filas=[]\n",
    "with gzip.open(url02) as file:\n",
    "    for line in file.readlines():\n",
    "        line = line.decode('utf-8')\n",
    "        filas.append(ast.literal_eval(line))\n",
    "\n",
    "df_user_reviews = pd.DataFrame(filas)\n",
    "df_user_reviews.head()"
   ]
  },
  {
   "block_group": "98fe8d2e5510401bb17b29b22b785455",
   "cell_type": "code",
   "execution_count": null,
   "metadata": {
    "cell_id": "98fe8d2e5510401bb17b29b22b785455",
    "deepnote_cell_type": "code",
    "deepnote_to_be_reexecuted": false,
    "execution_millis": 148151,
    "execution_start": 1693321221196,
    "source_hash": null
   },
   "outputs": [
    {
     "data": {
      "application/vnd.deepnote.dataframe.v3+json": {
       "column_count": 6,
       "columns": [
        {
         "dtype": "object",
         "name": "user_id",
         "stats": {
          "categories": [
           {
            "count": 1,
            "name": "76561197970982479"
           },
           {
            "count": 1,
            "name": "js41637"
           },
           {
            "count": 3,
            "name": "3 others"
           }
          ],
          "nan_count": 0,
          "unique_count": 5
         }
        },
        {
         "dtype": "object",
         "name": "user_url",
         "stats": {
          "categories": [
           {
            "count": 1,
            "name": "http://steamcommunity.com/profiles/76561197970982479"
           },
           {
            "count": 1,
            "name": "http://steamcommunity.com/id/js41637"
           },
           {
            "count": 3,
            "name": "3 others"
           }
          ],
          "nan_count": 0,
          "unique_count": 5
         }
        },
        {
         "dtype": "object",
         "name": "reviews",
         "stats": {
          "categories": [
           {
            "count": 1,
            "name": "[{'funny': '', 'posted': 'Posted November 5, 2011.', 'last_edited': '', 'item_id': '1250', 'helpful': 'No ratings yet', 'recommend': True, 'review': 'Simple yet with great replayability. In my opinion does \"zombie\" hordes and team work better than left 4 dead plus has a global leveling system. Alot of down to earth \"zombie\" splattering fun for the whole family. Amazed this sort of FPS is so rare.'}, {'funny': '', 'posted': 'Posted July 15, 2011.', 'last_edited': '', 'item_id': '22200', 'helpful': 'No ratings yet', 'recommend': True, 'review': \"It's unique and worth a playthrough.\"}, {'funny': '', 'posted': 'Posted April 21, 2011.', 'last_edited': '', 'item_id': '43110', 'helpful': 'No ratings yet', 'recommend': True, 'review': 'Great atmosphere. The gunplay can be a bit chunky at times but at the end of the day this game is definitely worth it and I hope they do a sequel...so buy the game so I get a sequel!'}]"
           },
           {
            "count": 1,
            "name": "[{'funny': '', 'posted': 'Posted June 24, 2014.', 'last_edited': '', 'item_id': '251610', 'helpful': '15 of 20 people (75%) found this review helpful', 'recommend': True, 'review': 'I know what you think when you see this title \"Barbie Dreamhouse Party\" but do not be intimidated by it\\'s title, this is easily one of my GOTYs. You don\\'t get any of that cliche game mechanics that all the latest games have, this is simply good core gameplay. Yes, you can\\'t 360 noscope your friends, but what you can do is show them up with your bad ♥♥♥ dance moves and put them to shame as you show them what true fashion and color combinations are.I know this game says for kids but, this is easily for any age range and any age will have a blast playing this.8/8'}, {'funny': '', 'posted': 'Posted September 8, 2013.', 'last_edited': '', 'item_id': '227300', 'helpful': '0 of 1 people (0%) found this review helpful', 'recommend': True, 'review': \"For a simple (it's actually not all that simple but it can be!) truck driving Simulator, it is quite a fun and relaxing game. Playing on simple (or easy?) its just the basic WASD keys for driving but (if you want) the game can be much harder and realistic with having to manually change gears, much harder turning, etc. And reversing in this game is a ♥♥♥♥♥, as I imagine it would be with an actual truck. Luckily, you don't have to reverse park it but you get extra points if you do cause it is bloody hard. But this is suprisingly a nice truck driving game and I had a bit of fun with it.\"}, {'funny': '', 'posted': 'Posted November 29, 2013.', 'last_edited': '', 'item_id': '239030', 'helpful': '1 of 4 people (25%) found this review helpful', 'recommend': True, 'review': 'Very fun little game to play when your bored or as a time passer. Very gud. Do Recommend. pls buy'}]"
           },
           {
            "count": 3,
            "name": "3 others"
           }
          ],
          "nan_count": 0,
          "unique_count": 5
         }
        },
        {
         "dtype": "float64",
         "name": "items_count",
         "stats": {
          "histogram": [
           {
            "bin_end": 0.1,
            "bin_start": 0,
            "count": 0
           },
           {
            "bin_end": 0.2,
            "bin_start": 0.1,
            "count": 0
           },
           {
            "bin_end": 0.30000000000000004,
            "bin_start": 0.2,
            "count": 0
           },
           {
            "bin_end": 0.4,
            "bin_start": 0.30000000000000004,
            "count": 0
           },
           {
            "bin_end": 0.5,
            "bin_start": 0.4,
            "count": 0
           },
           {
            "bin_end": 0.6000000000000001,
            "bin_start": 0.5,
            "count": 0
           },
           {
            "bin_end": 0.7000000000000001,
            "bin_start": 0.6000000000000001,
            "count": 0
           },
           {
            "bin_end": 0.8,
            "bin_start": 0.7000000000000001,
            "count": 0
           },
           {
            "bin_end": 0.9,
            "bin_start": 0.8,
            "count": 0
           },
           {
            "bin_end": 1,
            "bin_start": 0.9,
            "count": 0
           }
          ],
          "max": null,
          "min": null,
          "nan_count": 5,
          "unique_count": 0
         }
        },
        {
         "dtype": "object",
         "name": "steam_id",
         "stats": {
          "categories": [
           {
            "count": 5,
            "name": "Missing"
           }
          ],
          "nan_count": 5,
          "unique_count": 0
         }
        },
        {
         "dtype": "object",
         "name": "items",
         "stats": {
          "categories": [
           {
            "count": 5,
            "name": "Missing"
           }
          ],
          "nan_count": 5,
          "unique_count": 0
         }
        },
        {
         "dtype": "int64",
         "name": "_deepnote_index_column"
        }
       ],
       "row_count": 5,
       "rows": [
        {
         "_deepnote_index_column": 0,
         "items": "nan",
         "items_count": "nan",
         "reviews": "[{'funny': '', 'posted': 'Posted November 5, 2011.', 'last_edited': '', 'item_id': '1250', 'helpful': 'No ratings yet', 'recommend': True, 'review': 'Simple yet with great replayability. In my opinion does \"zombie\" hordes and team work better than left 4 dead plus has a global leveling system. Alot of down to earth \"zombie\" splattering fun for the whole family. Amazed this sort of FPS is so rare.'}, {'funny': '', 'posted': 'Posted July 15, 2011.', 'last_edited': '', 'item_id': '22200', 'helpful': 'No ratings yet', 'recommend': True, 'review': \"It's unique and worth a playthrough.\"}, {'funny': '', 'posted': 'Posted April 21, 2011.', 'last_edited': '', 'item_id': '43110', 'helpful': 'No ratings yet', 'recommend': True, 'review': 'Great atmosphere. The gunplay can be a bit chunky at times but at the end of the day this game is definitely worth it and I hope they do a sequel...so buy the game so I get a sequel!'}]",
         "steam_id": "nan",
         "user_id": "76561197970982479",
         "user_url": "http://steamcommunity.com/profiles/76561197970982479"
        },
        {
         "_deepnote_index_column": 1,
         "items": "nan",
         "items_count": "nan",
         "reviews": "[{'funny': '', 'posted': 'Posted June 24, 2014.', 'last_edited': '', 'item_id': '251610', 'helpful': '15 of 20 people (75%) found this review helpful', 'recommend': True, 'review': 'I know what you think when you see this title \"Barbie Dreamhouse Party\" but do not be intimidated by it\\'s title, this is easily one of my GOTYs. You don\\'t get any of that cliche game mechanics that all the latest games have, this is simply good core gameplay. Yes, you can\\'t 360 noscope your friends, but what you can do is show them up with your bad ♥♥♥ dance moves and put them to shame as you show them what true fashion and color combinations are.I know this game says for kids but, this is easily for any age range and any age will have a blast playing this.8/8'}, {'funny': '', 'posted': 'Posted September 8, 2013.', 'last_edited': '', 'item_id': '227300', 'helpful': '0 of 1 people (0%) found this review helpful', 'recommend': True, 'review': \"For a simple (it's actually not all that simple but it can be!…",
         "steam_id": "nan",
         "user_id": "js41637",
         "user_url": "http://steamcommunity.com/id/js41637"
        },
        {
         "_deepnote_index_column": 2,
         "items": "nan",
         "items_count": "nan",
         "reviews": "[{'funny': '', 'posted': 'Posted February 3.', 'last_edited': '', 'item_id': '248820', 'helpful': 'No ratings yet', 'recommend': True, 'review': \"A suitably punishing roguelike platformer.  Winning feels good.  Progressive unlocks mean a good slog ending in failure doesn't feel like a waste.\"}, {'funny': '', 'posted': 'Posted December 4, 2015.', 'last_edited': 'Last edited December 5, 2015.', 'item_id': '370360', 'helpful': 'No ratings yet', 'recommend': True, 'review': '\"Run for fun? What the hell kind of fun is that?\"'}, {'funny': '', 'posted': 'Posted November 3, 2014.', 'last_edited': '', 'item_id': '237930', 'helpful': 'No ratings yet', 'recommend': True, 'review': 'Elegant integration of gameplay, story, world development and aesthetic.'}, {'funny': '', 'posted': 'Posted October 15, 2014.', 'last_edited': '', 'item_id': '263360', 'helpful': 'No ratings yet', 'recommend': True, 'review': 'Random drops and random quests, with stat points.  Animation style reminiscent of the era be…",
         "steam_id": "nan",
         "user_id": "evcentric",
         "user_url": "http://steamcommunity.com/id/evcentric"
        },
        {
         "_deepnote_index_column": 3,
         "items": "nan",
         "items_count": "nan",
         "reviews": "[{'funny': '', 'posted': 'Posted October 14, 2013.', 'last_edited': '', 'item_id': '250320', 'helpful': '2 of 2 people (100%) found this review helpful', 'recommend': True, 'review': 'This game... is so fun. The fight sequences have been improved from walking dead. It also includes more of a Sam and Max puzzle solving (some of it in the first episode) and walking dead. The game also gets even more better if you have read the Fables comic books, which are without a doubt, very good. The music is also superb and fit the scenarios very well.'}, {'funny': '', 'posted': 'Posted July 28, 2012.', 'last_edited': '', 'item_id': '20920', 'helpful': '1 of 1 people (100%) found this review helpful', 'recommend': True, 'review': \"Really Really Really Great Game, very good story, im in chapter 1 atm and i think its great. You get a really early link with characters. No need to play the first game, its nicely wrapped up for you in a five minute video. FYI beware of the sex scenes :P, nudity does hap…",
         "steam_id": "nan",
         "user_id": "doctr",
         "user_url": "http://steamcommunity.com/id/doctr"
        },
        {
         "_deepnote_index_column": 4,
         "items": "nan",
         "items_count": "nan",
         "reviews": "[{'funny': '3 people found this review funny', 'posted': 'Posted April 15, 2014.', 'last_edited': '', 'item_id': '211420', 'helpful': '35 of 43 people (81%) found this review helpful', 'recommend': True, 'review': 'Git gud'}, {'funny': '1 person found this review funny', 'posted': 'Posted December 23, 2013.', 'last_edited': '', 'item_id': '211820', 'helpful': '12 of 16 people (75%) found this review helpful', 'recommend': True, 'review': \"It's like Terraria, you play for 9 hours straight, get endgame armour then stop playing until the next update.\"}, {'funny': '2 people found this review funny', 'posted': 'Posted March 14, 2014.', 'last_edited': '', 'item_id': '730', 'helpful': '5 of 5 people (100%) found this review helpful', 'recommend': True, 'review': 'Hold shift to win, Hold CTRL to lose.'}, {'funny': '', 'posted': 'Posted July 11, 2013.', 'last_edited': '', 'item_id': '204300', 'helpful': 'No ratings yet', 'recommend': True, 'review': \"OH YES, THIS GAME IS THE BEST, THEY ADD STU…",
         "steam_id": "nan",
         "user_id": "maplemage",
         "user_url": "http://steamcommunity.com/id/maplemage"
        }
       ]
      },
      "text/html": [
       "<div>\n",
       "<style scoped>\n",
       "    .dataframe tbody tr th:only-of-type {\n",
       "        vertical-align: middle;\n",
       "    }\n",
       "\n",
       "    .dataframe tbody tr th {\n",
       "        vertical-align: top;\n",
       "    }\n",
       "\n",
       "    .dataframe thead th {\n",
       "        text-align: right;\n",
       "    }\n",
       "</style>\n",
       "<table border=\"1\" class=\"dataframe\">\n",
       "  <thead>\n",
       "    <tr style=\"text-align: right;\">\n",
       "      <th></th>\n",
       "      <th>user_id</th>\n",
       "      <th>user_url</th>\n",
       "      <th>reviews</th>\n",
       "      <th>items_count</th>\n",
       "      <th>steam_id</th>\n",
       "      <th>items</th>\n",
       "    </tr>\n",
       "  </thead>\n",
       "  <tbody>\n",
       "    <tr>\n",
       "      <th>0</th>\n",
       "      <td>76561197970982479</td>\n",
       "      <td>http://steamcommunity.com/profiles/76561197970...</td>\n",
       "      <td>[{'funny': '', 'posted': 'Posted November 5, 2...</td>\n",
       "      <td>NaN</td>\n",
       "      <td>NaN</td>\n",
       "      <td>NaN</td>\n",
       "    </tr>\n",
       "    <tr>\n",
       "      <th>1</th>\n",
       "      <td>js41637</td>\n",
       "      <td>http://steamcommunity.com/id/js41637</td>\n",
       "      <td>[{'funny': '', 'posted': 'Posted June 24, 2014...</td>\n",
       "      <td>NaN</td>\n",
       "      <td>NaN</td>\n",
       "      <td>NaN</td>\n",
       "    </tr>\n",
       "    <tr>\n",
       "      <th>2</th>\n",
       "      <td>evcentric</td>\n",
       "      <td>http://steamcommunity.com/id/evcentric</td>\n",
       "      <td>[{'funny': '', 'posted': 'Posted February 3.',...</td>\n",
       "      <td>NaN</td>\n",
       "      <td>NaN</td>\n",
       "      <td>NaN</td>\n",
       "    </tr>\n",
       "    <tr>\n",
       "      <th>3</th>\n",
       "      <td>doctr</td>\n",
       "      <td>http://steamcommunity.com/id/doctr</td>\n",
       "      <td>[{'funny': '', 'posted': 'Posted October 14, 2...</td>\n",
       "      <td>NaN</td>\n",
       "      <td>NaN</td>\n",
       "      <td>NaN</td>\n",
       "    </tr>\n",
       "    <tr>\n",
       "      <th>4</th>\n",
       "      <td>maplemage</td>\n",
       "      <td>http://steamcommunity.com/id/maplemage</td>\n",
       "      <td>[{'funny': '3 people found this review funny',...</td>\n",
       "      <td>NaN</td>\n",
       "      <td>NaN</td>\n",
       "      <td>NaN</td>\n",
       "    </tr>\n",
       "  </tbody>\n",
       "</table>\n",
       "</div>"
      ],
      "text/plain": [
       "             user_id                                           user_url  \\\n",
       "0  76561197970982479  http://steamcommunity.com/profiles/76561197970...   \n",
       "1            js41637               http://steamcommunity.com/id/js41637   \n",
       "2          evcentric             http://steamcommunity.com/id/evcentric   \n",
       "3              doctr                 http://steamcommunity.com/id/doctr   \n",
       "4          maplemage             http://steamcommunity.com/id/maplemage   \n",
       "\n",
       "                                             reviews  items_count steam_id  \\\n",
       "0  [{'funny': '', 'posted': 'Posted November 5, 2...          NaN      NaN   \n",
       "1  [{'funny': '', 'posted': 'Posted June 24, 2014...          NaN      NaN   \n",
       "2  [{'funny': '', 'posted': 'Posted February 3.',...          NaN      NaN   \n",
       "3  [{'funny': '', 'posted': 'Posted October 14, 2...          NaN      NaN   \n",
       "4  [{'funny': '3 people found this review funny',...          NaN      NaN   \n",
       "\n",
       "  items  \n",
       "0   NaN  \n",
       "1   NaN  \n",
       "2   NaN  \n",
       "3   NaN  \n",
       "4   NaN  "
      ]
     },
     "execution_count": 5,
     "metadata": {},
     "output_type": "execute_result"
    }
   ],
   "source": [
    "with gzip.open(url03) as file:\n",
    "    for line in file.readlines():\n",
    "        line = line.decode('utf-8')\n",
    "        filas.append(ast.literal_eval(line))\n",
    "\n",
    "df_user_items = pd.DataFrame(filas)\n",
    "df_user_items.head()"
   ]
  },
  {
   "block_group": "a7fc4283e6c64d1d87a5e47f8667ebf5",
   "cell_type": "markdown",
   "metadata": {
    "cell_id": "d7c6ff61fd174c15a45ec6342a5ee8b3",
    "deepnote_cell_type": "markdown"
   },
   "source": [
    "## 3.Análisis de Descriptivo de los Datos"
   ]
  },
  {
   "block_group": "801bd2384c744a7ea9285b2de43969b0",
   "cell_type": "markdown",
   "metadata": {
    "cell_id": "52b73bcfeb4f4a72b358abf40f9036ee",
    "deepnote_cell_type": "markdown"
   },
   "source": [
    "### 3.1.Definiremos funciones para el analisis descriptivo de los datos"
   ]
  },
  {
   "block_group": "66791a9f372e4a8ba746780b96e5e58e",
   "cell_type": "code",
   "execution_count": null,
   "metadata": {
    "cell_id": "66791a9f372e4a8ba746780b96e5e58e",
    "deepnote_cell_type": "code",
    "deepnote_to_be_reexecuted": false,
    "execution_millis": 6657,
    "execution_start": 1693321367136,
    "source_hash": null
   },
   "outputs": [],
   "source": [
    "def check_df(dataset, head = 5):\n",
    "    \"\"\"\n",
    "    Funcion creada para tener una vista general de la base de datos\n",
    "    \"\"\"\n",
    "    print('*'*30 + 'Forma de la base de datos' + '*'*30, end = '\\n'*2)\n",
    "    print(dataset.shape, end = '\\n'*2)#Tamaño de la base de datos\n",
    "\n",
    "    print('*'*30 + 'Informacion general de la base de datos' + '*'*30, end = '\\n'*2)\n",
    "    print(dataset.info(), end = '\\n'*2)# Informacion general\n",
    "\n",
    "    print('*'*30 + 'Mostrar las primeras 5 filas' + '*'*30, end = '\\n'*2)\n",
    "    print(dataset.head(), end = '\\n'*2)# Mostrar las primeras 5 filas\n",
    "\n",
    "    print('*'*30 + 'NaN cantidad de nulos' + '*'*30, end = '\\n'*2)\n",
    "    print(dataset.isnull().sum(), end = '\\n'*2)#Cuenta la cantidad de NaN por columna\n",
    "\n"
   ]
  },
  {
   "block_group": "aa3ee58985294ba18882d49e2c31205c",
   "cell_type": "markdown",
   "metadata": {
    "cell_id": "7376e013bdd44c2b86d9b4305293d4e4",
    "deepnote_cell_type": "markdown"
   },
   "source": [
    "#### 3.1.1.Revision de df_steam_games"
   ]
  },
  {
   "block_group": "d0e33c96a17a497a8cdd5bdcedea5943",
   "cell_type": "code",
   "execution_count": null,
   "metadata": {
    "cell_id": "d0e33c96a17a497a8cdd5bdcedea5943",
    "deepnote_cell_type": "code",
    "deepnote_to_be_reexecuted": false,
    "execution_millis": 304,
    "execution_start": 1693321367137,
    "source_hash": null
   },
   "outputs": [
    {
     "name": "stdout",
     "output_type": "stream",
     "text": [
      "******************************Forma de la base de datos******************************\n",
      "\n",
      "(120445, 13)\n",
      "\n",
      "******************************Informacion general de la base de datos******************************\n",
      "\n",
      "<class 'pandas.core.frame.DataFrame'>\n",
      "RangeIndex: 120445 entries, 0 to 120444\n",
      "Data columns (total 13 columns):\n",
      " #   Column        Non-Null Count  Dtype  \n",
      "---  ------        --------------  -----  \n",
      " 0   publisher     24083 non-null  object \n",
      " 1   genres        28852 non-null  object \n",
      " 2   app_name      32133 non-null  object \n",
      " 3   title         30085 non-null  object \n",
      " 4   url           32135 non-null  object \n",
      " 5   release_date  30068 non-null  object \n",
      " 6   tags          31972 non-null  object \n",
      " 7   reviews_url   32133 non-null  object \n",
      " 8   specs         31465 non-null  object \n",
      " 9   price         30758 non-null  object \n",
      " 10  early_access  32135 non-null  float64\n",
      " 11  id            32133 non-null  float64\n",
      " 12  developer     28836 non-null  object \n",
      "dtypes: float64(2), object(11)\n",
      "memory usage: 11.9+ MB\n",
      "None\n",
      "\n",
      "******************************Mostrar las primeras 5 filas******************************\n",
      "\n",
      "  publisher genres app_name title   url release_date  tags reviews_url specs  \\\n",
      "0      None   None     None  None  None         None  None        None  None   \n",
      "1      None   None     None  None  None         None  None        None  None   \n",
      "2      None   None     None  None  None         None  None        None  None   \n",
      "3      None   None     None  None  None         None  None        None  None   \n",
      "4      None   None     None  None  None         None  None        None  None   \n",
      "\n",
      "  price  early_access  id developer  \n",
      "0  None           NaN NaN      None  \n",
      "1  None           NaN NaN      None  \n",
      "2  None           NaN NaN      None  \n",
      "3  None           NaN NaN      None  \n",
      "4  None           NaN NaN      None  \n",
      "\n",
      "******************************NaN cantidad de nulos******************************\n",
      "\n",
      "publisher       96362\n",
      "genres          91593\n",
      "app_name        88312\n",
      "title           90360\n",
      "url             88310\n",
      "release_date    90377\n",
      "tags            88473\n",
      "reviews_url     88312\n",
      "specs           88980\n",
      "price           89687\n",
      "early_access    88310\n",
      "id              88312\n",
      "developer       91609\n",
      "dtype: int64\n",
      "\n"
     ]
    }
   ],
   "source": [
    "check_df(df_steam_games)"
   ]
  },
  {
   "block_group": "413bf7fd4f014599bec38ebcc723b617",
   "cell_type": "code",
   "execution_count": null,
   "metadata": {
    "cell_id": "413bf7fd4f014599bec38ebcc723b617",
    "deepnote_cell_type": "code",
    "deepnote_to_be_reexecuted": false,
    "execution_millis": 1960,
    "execution_start": 1693321367410,
    "source_hash": null
   },
   "outputs": [],
   "source": [
    "#Procederemos a dropear las columnas que posean mas de 3 columnas nulas\n",
    "df_steam_games.dropna(thresh=3, inplace=True)"
   ]
  },
  {
   "block_group": "ca736ba18a244f83885cc18c066c887a",
   "cell_type": "code",
   "execution_count": null,
   "metadata": {
    "cell_id": "ca736ba18a244f83885cc18c066c887a",
    "deepnote_cell_type": "code",
    "deepnote_to_be_reexecuted": false,
    "execution_millis": 103,
    "execution_start": 1693321367412,
    "source_hash": null
   },
   "outputs": [
    {
     "name": "stdout",
     "output_type": "stream",
     "text": [
      "<class 'pandas.core.frame.DataFrame'>\n",
      "Int64Index: 32135 entries, 88310 to 120444\n",
      "Data columns (total 13 columns):\n",
      " #   Column        Non-Null Count  Dtype  \n",
      "---  ------        --------------  -----  \n",
      " 0   publisher     24083 non-null  object \n",
      " 1   genres        28852 non-null  object \n",
      " 2   app_name      32133 non-null  object \n",
      " 3   title         30085 non-null  object \n",
      " 4   url           32135 non-null  object \n",
      " 5   release_date  30068 non-null  object \n",
      " 6   tags          31972 non-null  object \n",
      " 7   reviews_url   32133 non-null  object \n",
      " 8   specs         31465 non-null  object \n",
      " 9   price         30758 non-null  object \n",
      " 10  early_access  32135 non-null  float64\n",
      " 11  id            32133 non-null  float64\n",
      " 12  developer     28836 non-null  object \n",
      "dtypes: float64(2), object(11)\n",
      "memory usage: 3.4+ MB\n"
     ]
    }
   ],
   "source": [
    "df_steam_games.info()"
   ]
  },
  {
   "block_group": "53601f68b9424d6bbce09b75a1813995",
   "cell_type": "code",
   "execution_count": null,
   "metadata": {
    "cell_id": "53601f68b9424d6bbce09b75a1813995",
    "deepnote_cell_type": "code",
    "deepnote_to_be_reexecuted": false,
    "execution_millis": 2516,
    "execution_start": 1693321367413,
    "source_hash": null
   },
   "outputs": [
    {
     "data": {
      "application/vnd.deepnote.dataframe.v3+json": {
       "column_count": 13,
       "columns": [
        {
         "dtype": "object",
         "name": "publisher",
         "stats": {
          "categories": [
           {
            "count": 385,
            "name": "Ubisoft"
           },
           {
            "count": 23698,
            "name": "8238 others"
           },
           {
            "count": 8052,
            "name": "Missing"
           }
          ],
          "nan_count": 8052,
          "unique_count": 8239
         }
        },
        {
         "dtype": "object",
         "name": "genres",
         "stats": {
          "categories": [
           {
            "count": 1880,
            "name": "['Action']"
           },
           {
            "count": 26972,
            "name": "882 others"
           },
           {
            "count": 3283,
            "name": "Missing"
           }
          ],
          "nan_count": 3283,
          "unique_count": 32135
         }
        },
        {
         "dtype": "object",
         "name": "app_name",
         "stats": {
          "categories": [
           {
            "count": 3,
            "name": "Soundtrack"
           },
           {
            "count": 32130,
            "name": "32093 others"
           },
           {
            "count": 2,
            "name": "Missing"
           }
          ],
          "nan_count": 2,
          "unique_count": 32094
         }
        },
        {
         "dtype": "object",
         "name": "title"
        },
        {
         "dtype": "object",
         "name": "url"
        },
        {
         "dtype": "object",
         "name": "release_date"
        },
        {
         "dtype": "object",
         "name": "tags"
        },
        {
         "dtype": "object",
         "name": "reviews_url"
        },
        {
         "dtype": "object",
         "name": "specs"
        },
        {
         "dtype": "object",
         "name": "price"
        },
        {
         "dtype": "float64",
         "name": "early_access"
        },
        {
         "dtype": "float64",
         "name": "id"
        },
        {
         "dtype": "object",
         "name": "developer"
        },
        {
         "dtype": "int64",
         "name": "_deepnote_index_column"
        }
       ],
       "row_count": 32135,
       "rows": [
        {
         "_deepnote_index_column": 88310,
         "app_name": "Lost Summoner Kitty",
         "developer": "Kotoshiro",
         "early_access": 0,
         "genres": "['Action', 'Casual', 'Indie', 'Simulation', 'Strategy']",
         "id": 761140,
         "price": "4.99",
         "publisher": "Kotoshiro",
         "release_date": "2018-01-04",
         "reviews_url": "http://steamcommunity.com/app/761140/reviews/?browsefilter=mostrecent&p=1",
         "specs": "['Single-player']",
         "tags": "['Strategy', 'Action', 'Indie', 'Casual', 'Simulation']",
         "title": "Lost Summoner Kitty",
         "url": "http://store.steampowered.com/app/761140/Lost_Summoner_Kitty/"
        },
        {
         "_deepnote_index_column": 88311,
         "app_name": "Ironbound",
         "developer": "Secret Level SRL",
         "early_access": 0,
         "genres": "['Free to Play', 'Indie', 'RPG', 'Strategy']",
         "id": 643980,
         "price": "Free To Play",
         "publisher": "Making Fun, Inc.",
         "release_date": "2018-01-04",
         "reviews_url": "http://steamcommunity.com/app/643980/reviews/?browsefilter=mostrecent&p=1",
         "specs": "['Single-player', 'Multi-player', 'Online Multi-Player', 'Cross-Platform Multiplayer', 'Steam Achievements', 'Steam Trading Cards', 'In-App Purchases']",
         "tags": "['Free to Play', 'Strategy', 'Indie', 'RPG', 'Card Game', 'Trading Card Game', 'Turn-Based', 'Fantasy', 'Tactical', 'Dark Fantasy', 'Board Game', 'PvP', '2D', 'Competitive', 'Replay Value', 'Character Customization', 'Female Protagonist', 'Difficult', 'Design & Illustration']",
         "title": "Ironbound",
         "url": "http://store.steampowered.com/app/643980/Ironbound/"
        },
        {
         "_deepnote_index_column": 88312,
         "app_name": "Real Pool 3D - Poolians",
         "developer": "Poolians.com",
         "early_access": 0,
         "genres": "['Casual', 'Free to Play', 'Indie', 'Simulation', 'Sports']",
         "id": 670290,
         "price": "Free to Play",
         "publisher": "Poolians.com",
         "release_date": "2017-07-24",
         "reviews_url": "http://steamcommunity.com/app/670290/reviews/?browsefilter=mostrecent&p=1",
         "specs": "['Single-player', 'Multi-player', 'Online Multi-Player', 'In-App Purchases', 'Stats']",
         "tags": "['Free to Play', 'Simulation', 'Sports', 'Casual', 'Indie', 'Multiplayer']",
         "title": "Real Pool 3D - Poolians",
         "url": "http://store.steampowered.com/app/670290/Real_Pool_3D__Poolians/"
        },
        {
         "_deepnote_index_column": 88313,
         "app_name": "弹炸人2222",
         "developer": "彼岸领域",
         "early_access": 0,
         "genres": "['Action', 'Adventure', 'Casual']",
         "id": 767400,
         "price": "0.99",
         "publisher": "彼岸领域",
         "release_date": "2017-12-07",
         "reviews_url": "http://steamcommunity.com/app/767400/reviews/?browsefilter=mostrecent&p=1",
         "specs": "['Single-player']",
         "tags": "['Action', 'Adventure', 'Casual']",
         "title": "弹炸人2222",
         "url": "http://store.steampowered.com/app/767400/2222/"
        },
        {
         "_deepnote_index_column": 88314,
         "app_name": "Log Challenge",
         "developer": "None",
         "early_access": 0,
         "genres": "None",
         "id": 773570,
         "price": "2.99",
         "publisher": "None",
         "release_date": "None",
         "reviews_url": "http://steamcommunity.com/app/773570/reviews/?browsefilter=mostrecent&p=1",
         "specs": "['Single-player', 'Full controller support', 'HTC Vive', 'Oculus Rift', 'Tracked Motion Controllers', 'Room-Scale']",
         "tags": "['Action', 'Indie', 'Casual', 'Sports']",
         "title": "None",
         "url": "http://store.steampowered.com/app/773570/Log_Challenge/"
        },
        {
         "_deepnote_index_column": 88315,
         "app_name": "Battle Royale Trainer",
         "developer": "Trickjump Games Ltd",
         "early_access": 0,
         "genres": "['Action', 'Adventure', 'Simulation']",
         "id": 772540,
         "price": "3.99",
         "publisher": "Trickjump Games Ltd",
         "release_date": "2018-01-04",
         "reviews_url": "http://steamcommunity.com/app/772540/reviews/?browsefilter=mostrecent&p=1",
         "specs": "['Single-player', 'Steam Achievements']",
         "tags": "['Action', 'Adventure', 'Simulation', 'FPS', 'Shooter', 'Third-Person Shooter', 'Sniper', 'Third Person']",
         "title": "Battle Royale Trainer",
         "url": "http://store.steampowered.com/app/772540/Battle_Royale_Trainer/"
        },
        {
         "_deepnote_index_column": 88316,
         "app_name": "SNOW - All Access Basic Pass",
         "developer": "Poppermost Productions",
         "early_access": 0,
         "genres": "['Free to Play', 'Indie', 'Simulation', 'Sports']",
         "id": 774276,
         "price": "9.99",
         "publisher": "None",
         "release_date": "2018-01-04",
         "reviews_url": "http://steamcommunity.com/app/774276/reviews/?browsefilter=mostrecent&p=1",
         "specs": "['Single-player', 'Multi-player', 'Online Multi-Player', 'Cross-Platform Multiplayer', 'Downloadable Content', 'Steam Achievements', 'Full controller support', 'Steam Trading Cards', 'In-App Purchases', 'Steam Cloud', 'Steam Leaderboards']",
         "tags": "['Free to Play', 'Indie', 'Simulation', 'Sports']",
         "title": "SNOW - All Access Basic Pass",
         "url": "http://store.steampowered.com/app/774276/SNOW__All_Access_Basic_Pass/"
        },
        {
         "_deepnote_index_column": 88317,
         "app_name": "SNOW - All Access Pro Pass",
         "developer": "Poppermost Productions",
         "early_access": 0,
         "genres": "['Free to Play', 'Indie', 'Simulation', 'Sports']",
         "id": 774277,
         "price": "18.99",
         "publisher": "Poppermost Productions",
         "release_date": "2018-01-04",
         "reviews_url": "http://steamcommunity.com/app/774277/reviews/?browsefilter=mostrecent&p=1",
         "specs": "['Single-player', 'Multi-player', 'Online Multi-Player', 'Cross-Platform Multiplayer', 'Downloadable Content', 'Steam Achievements', 'Full controller support', 'Steam Trading Cards', 'In-App Purchases', 'Steam Cloud', 'Steam Leaderboards']",
         "tags": "['Free to Play', 'Indie', 'Simulation', 'Sports']",
         "title": "SNOW - All Access Pro Pass",
         "url": "http://store.steampowered.com/app/774277/SNOW__All_Access_Pro_Pass/"
        },
        {
         "_deepnote_index_column": 88318,
         "app_name": "SNOW - All Access Legend Pass",
         "developer": "Poppermost Productions",
         "early_access": 0,
         "genres": "['Free to Play', 'Indie', 'Simulation', 'Sports']",
         "id": 774278,
         "price": "29.99",
         "publisher": "Poppermost Productions",
         "release_date": "2018-01-04",
         "reviews_url": "http://steamcommunity.com/app/774278/reviews/?browsefilter=mostrecent&p=1",
         "specs": "['Single-player', 'Multi-player', 'Online Multi-Player', 'Cross-Platform Multiplayer', 'Downloadable Content', 'Steam Achievements', 'Full controller support', 'Steam Trading Cards', 'In-App Purchases', 'Steam Cloud', 'Steam Leaderboards']",
         "tags": "['Free to Play', 'Indie', 'Simulation', 'Sports']",
         "title": "SNOW - All Access Legend Pass",
         "url": "http://store.steampowered.com/app/774278/SNOW__All_Access_Legend_Pass/"
        },
        {
         "_deepnote_index_column": 88319,
         "app_name": "Race",
         "developer": "RewindApp",
         "early_access": 0,
         "genres": "['Casual', 'Indie', 'Racing', 'Simulation']",
         "id": 768800,
         "price": "None",
         "publisher": "RewindApp",
         "release_date": "2018-01-04",
         "reviews_url": "http://steamcommunity.com/app/768800/reviews/?browsefilter=mostrecent&p=1",
         "specs": "['Single-player', 'Multi-player', 'Partial Controller Support']",
         "tags": "['Indie', 'Casual', 'Simulation', 'Racing']",
         "title": "Race",
         "url": "http://store.steampowered.com/app/768800/Race/"
        }
       ]
      },
      "text/html": [
       "<div>\n",
       "<style scoped>\n",
       "    .dataframe tbody tr th:only-of-type {\n",
       "        vertical-align: middle;\n",
       "    }\n",
       "\n",
       "    .dataframe tbody tr th {\n",
       "        vertical-align: top;\n",
       "    }\n",
       "\n",
       "    .dataframe thead th {\n",
       "        text-align: right;\n",
       "    }\n",
       "</style>\n",
       "<table border=\"1\" class=\"dataframe\">\n",
       "  <thead>\n",
       "    <tr style=\"text-align: right;\">\n",
       "      <th></th>\n",
       "      <th>publisher</th>\n",
       "      <th>genres</th>\n",
       "      <th>app_name</th>\n",
       "      <th>title</th>\n",
       "      <th>url</th>\n",
       "      <th>release_date</th>\n",
       "      <th>tags</th>\n",
       "      <th>reviews_url</th>\n",
       "      <th>specs</th>\n",
       "      <th>price</th>\n",
       "      <th>early_access</th>\n",
       "      <th>id</th>\n",
       "      <th>developer</th>\n",
       "    </tr>\n",
       "  </thead>\n",
       "  <tbody>\n",
       "    <tr>\n",
       "      <th>88310</th>\n",
       "      <td>Kotoshiro</td>\n",
       "      <td>[Action, Casual, Indie, Simulation, Strategy]</td>\n",
       "      <td>Lost Summoner Kitty</td>\n",
       "      <td>Lost Summoner Kitty</td>\n",
       "      <td>http://store.steampowered.com/app/761140/Lost_...</td>\n",
       "      <td>2018-01-04</td>\n",
       "      <td>[Strategy, Action, Indie, Casual, Simulation]</td>\n",
       "      <td>http://steamcommunity.com/app/761140/reviews/?...</td>\n",
       "      <td>[Single-player]</td>\n",
       "      <td>4.99</td>\n",
       "      <td>0.0</td>\n",
       "      <td>761140.0</td>\n",
       "      <td>Kotoshiro</td>\n",
       "    </tr>\n",
       "    <tr>\n",
       "      <th>88311</th>\n",
       "      <td>Making Fun, Inc.</td>\n",
       "      <td>[Free to Play, Indie, RPG, Strategy]</td>\n",
       "      <td>Ironbound</td>\n",
       "      <td>Ironbound</td>\n",
       "      <td>http://store.steampowered.com/app/643980/Ironb...</td>\n",
       "      <td>2018-01-04</td>\n",
       "      <td>[Free to Play, Strategy, Indie, RPG, Card Game...</td>\n",
       "      <td>http://steamcommunity.com/app/643980/reviews/?...</td>\n",
       "      <td>[Single-player, Multi-player, Online Multi-Pla...</td>\n",
       "      <td>Free To Play</td>\n",
       "      <td>0.0</td>\n",
       "      <td>643980.0</td>\n",
       "      <td>Secret Level SRL</td>\n",
       "    </tr>\n",
       "    <tr>\n",
       "      <th>88312</th>\n",
       "      <td>Poolians.com</td>\n",
       "      <td>[Casual, Free to Play, Indie, Simulation, Sports]</td>\n",
       "      <td>Real Pool 3D - Poolians</td>\n",
       "      <td>Real Pool 3D - Poolians</td>\n",
       "      <td>http://store.steampowered.com/app/670290/Real_...</td>\n",
       "      <td>2017-07-24</td>\n",
       "      <td>[Free to Play, Simulation, Sports, Casual, Ind...</td>\n",
       "      <td>http://steamcommunity.com/app/670290/reviews/?...</td>\n",
       "      <td>[Single-player, Multi-player, Online Multi-Pla...</td>\n",
       "      <td>Free to Play</td>\n",
       "      <td>0.0</td>\n",
       "      <td>670290.0</td>\n",
       "      <td>Poolians.com</td>\n",
       "    </tr>\n",
       "    <tr>\n",
       "      <th>88313</th>\n",
       "      <td>彼岸领域</td>\n",
       "      <td>[Action, Adventure, Casual]</td>\n",
       "      <td>弹炸人2222</td>\n",
       "      <td>弹炸人2222</td>\n",
       "      <td>http://store.steampowered.com/app/767400/2222/</td>\n",
       "      <td>2017-12-07</td>\n",
       "      <td>[Action, Adventure, Casual]</td>\n",
       "      <td>http://steamcommunity.com/app/767400/reviews/?...</td>\n",
       "      <td>[Single-player]</td>\n",
       "      <td>0.99</td>\n",
       "      <td>0.0</td>\n",
       "      <td>767400.0</td>\n",
       "      <td>彼岸领域</td>\n",
       "    </tr>\n",
       "    <tr>\n",
       "      <th>88314</th>\n",
       "      <td>None</td>\n",
       "      <td>None</td>\n",
       "      <td>Log Challenge</td>\n",
       "      <td>None</td>\n",
       "      <td>http://store.steampowered.com/app/773570/Log_C...</td>\n",
       "      <td>None</td>\n",
       "      <td>[Action, Indie, Casual, Sports]</td>\n",
       "      <td>http://steamcommunity.com/app/773570/reviews/?...</td>\n",
       "      <td>[Single-player, Full controller support, HTC V...</td>\n",
       "      <td>2.99</td>\n",
       "      <td>0.0</td>\n",
       "      <td>773570.0</td>\n",
       "      <td>None</td>\n",
       "    </tr>\n",
       "    <tr>\n",
       "      <th>...</th>\n",
       "      <td>...</td>\n",
       "      <td>...</td>\n",
       "      <td>...</td>\n",
       "      <td>...</td>\n",
       "      <td>...</td>\n",
       "      <td>...</td>\n",
       "      <td>...</td>\n",
       "      <td>...</td>\n",
       "      <td>...</td>\n",
       "      <td>...</td>\n",
       "      <td>...</td>\n",
       "      <td>...</td>\n",
       "      <td>...</td>\n",
       "    </tr>\n",
       "    <tr>\n",
       "      <th>120440</th>\n",
       "      <td>Ghost_RUS Games</td>\n",
       "      <td>[Casual, Indie, Simulation, Strategy]</td>\n",
       "      <td>Colony On Mars</td>\n",
       "      <td>Colony On Mars</td>\n",
       "      <td>http://store.steampowered.com/app/773640/Colon...</td>\n",
       "      <td>2018-01-04</td>\n",
       "      <td>[Strategy, Indie, Casual, Simulation]</td>\n",
       "      <td>http://steamcommunity.com/app/773640/reviews/?...</td>\n",
       "      <td>[Single-player, Steam Achievements]</td>\n",
       "      <td>1.99</td>\n",
       "      <td>0.0</td>\n",
       "      <td>773640.0</td>\n",
       "      <td>Nikita \"Ghost_RUS\"</td>\n",
       "    </tr>\n",
       "    <tr>\n",
       "      <th>120441</th>\n",
       "      <td>Sacada</td>\n",
       "      <td>[Casual, Indie, Strategy]</td>\n",
       "      <td>LOGistICAL: South Africa</td>\n",
       "      <td>LOGistICAL: South Africa</td>\n",
       "      <td>http://store.steampowered.com/app/733530/LOGis...</td>\n",
       "      <td>2018-01-04</td>\n",
       "      <td>[Strategy, Indie, Casual]</td>\n",
       "      <td>http://steamcommunity.com/app/733530/reviews/?...</td>\n",
       "      <td>[Single-player, Steam Achievements, Steam Clou...</td>\n",
       "      <td>4.99</td>\n",
       "      <td>0.0</td>\n",
       "      <td>733530.0</td>\n",
       "      <td>Sacada</td>\n",
       "    </tr>\n",
       "    <tr>\n",
       "      <th>120442</th>\n",
       "      <td>Laush Studio</td>\n",
       "      <td>[Indie, Racing, Simulation]</td>\n",
       "      <td>Russian Roads</td>\n",
       "      <td>Russian Roads</td>\n",
       "      <td>http://store.steampowered.com/app/610660/Russi...</td>\n",
       "      <td>2018-01-04</td>\n",
       "      <td>[Indie, Simulation, Racing]</td>\n",
       "      <td>http://steamcommunity.com/app/610660/reviews/?...</td>\n",
       "      <td>[Single-player, Steam Achievements, Steam Trad...</td>\n",
       "      <td>1.99</td>\n",
       "      <td>0.0</td>\n",
       "      <td>610660.0</td>\n",
       "      <td>Laush Dmitriy Sergeevich</td>\n",
       "    </tr>\n",
       "    <tr>\n",
       "      <th>120443</th>\n",
       "      <td>SIXNAILS</td>\n",
       "      <td>[Casual, Indie]</td>\n",
       "      <td>EXIT 2 - Directions</td>\n",
       "      <td>EXIT 2 - Directions</td>\n",
       "      <td>http://store.steampowered.com/app/658870/EXIT_...</td>\n",
       "      <td>2017-09-02</td>\n",
       "      <td>[Indie, Casual, Puzzle, Singleplayer, Atmosphe...</td>\n",
       "      <td>http://steamcommunity.com/app/658870/reviews/?...</td>\n",
       "      <td>[Single-player, Steam Achievements, Steam Cloud]</td>\n",
       "      <td>4.99</td>\n",
       "      <td>0.0</td>\n",
       "      <td>658870.0</td>\n",
       "      <td>xropi,stev3ns</td>\n",
       "    </tr>\n",
       "    <tr>\n",
       "      <th>120444</th>\n",
       "      <td>None</td>\n",
       "      <td>None</td>\n",
       "      <td>Maze Run VR</td>\n",
       "      <td>None</td>\n",
       "      <td>http://store.steampowered.com/app/681550/Maze_...</td>\n",
       "      <td>None</td>\n",
       "      <td>[Early Access, Adventure, Indie, Action, Simul...</td>\n",
       "      <td>http://steamcommunity.com/app/681550/reviews/?...</td>\n",
       "      <td>[Single-player, Stats, Steam Leaderboards, HTC...</td>\n",
       "      <td>4.99</td>\n",
       "      <td>1.0</td>\n",
       "      <td>681550.0</td>\n",
       "      <td>None</td>\n",
       "    </tr>\n",
       "  </tbody>\n",
       "</table>\n",
       "<p>32135 rows × 13 columns</p>\n",
       "</div>"
      ],
      "text/plain": [
       "               publisher                                             genres  \\\n",
       "88310          Kotoshiro      [Action, Casual, Indie, Simulation, Strategy]   \n",
       "88311   Making Fun, Inc.               [Free to Play, Indie, RPG, Strategy]   \n",
       "88312       Poolians.com  [Casual, Free to Play, Indie, Simulation, Sports]   \n",
       "88313               彼岸领域                        [Action, Adventure, Casual]   \n",
       "88314               None                                               None   \n",
       "...                  ...                                                ...   \n",
       "120440   Ghost_RUS Games              [Casual, Indie, Simulation, Strategy]   \n",
       "120441            Sacada                          [Casual, Indie, Strategy]   \n",
       "120442      Laush Studio                        [Indie, Racing, Simulation]   \n",
       "120443          SIXNAILS                                    [Casual, Indie]   \n",
       "120444              None                                               None   \n",
       "\n",
       "                        app_name                     title  \\\n",
       "88310        Lost Summoner Kitty       Lost Summoner Kitty   \n",
       "88311                  Ironbound                 Ironbound   \n",
       "88312    Real Pool 3D - Poolians   Real Pool 3D - Poolians   \n",
       "88313                    弹炸人2222                   弹炸人2222   \n",
       "88314              Log Challenge                      None   \n",
       "...                          ...                       ...   \n",
       "120440            Colony On Mars            Colony On Mars   \n",
       "120441  LOGistICAL: South Africa  LOGistICAL: South Africa   \n",
       "120442             Russian Roads             Russian Roads   \n",
       "120443       EXIT 2 - Directions       EXIT 2 - Directions   \n",
       "120444               Maze Run VR                      None   \n",
       "\n",
       "                                                      url release_date  \\\n",
       "88310   http://store.steampowered.com/app/761140/Lost_...   2018-01-04   \n",
       "88311   http://store.steampowered.com/app/643980/Ironb...   2018-01-04   \n",
       "88312   http://store.steampowered.com/app/670290/Real_...   2017-07-24   \n",
       "88313      http://store.steampowered.com/app/767400/2222/   2017-12-07   \n",
       "88314   http://store.steampowered.com/app/773570/Log_C...         None   \n",
       "...                                                   ...          ...   \n",
       "120440  http://store.steampowered.com/app/773640/Colon...   2018-01-04   \n",
       "120441  http://store.steampowered.com/app/733530/LOGis...   2018-01-04   \n",
       "120442  http://store.steampowered.com/app/610660/Russi...   2018-01-04   \n",
       "120443  http://store.steampowered.com/app/658870/EXIT_...   2017-09-02   \n",
       "120444  http://store.steampowered.com/app/681550/Maze_...         None   \n",
       "\n",
       "                                                     tags  \\\n",
       "88310       [Strategy, Action, Indie, Casual, Simulation]   \n",
       "88311   [Free to Play, Strategy, Indie, RPG, Card Game...   \n",
       "88312   [Free to Play, Simulation, Sports, Casual, Ind...   \n",
       "88313                         [Action, Adventure, Casual]   \n",
       "88314                     [Action, Indie, Casual, Sports]   \n",
       "...                                                   ...   \n",
       "120440              [Strategy, Indie, Casual, Simulation]   \n",
       "120441                          [Strategy, Indie, Casual]   \n",
       "120442                        [Indie, Simulation, Racing]   \n",
       "120443  [Indie, Casual, Puzzle, Singleplayer, Atmosphe...   \n",
       "120444  [Early Access, Adventure, Indie, Action, Simul...   \n",
       "\n",
       "                                              reviews_url  \\\n",
       "88310   http://steamcommunity.com/app/761140/reviews/?...   \n",
       "88311   http://steamcommunity.com/app/643980/reviews/?...   \n",
       "88312   http://steamcommunity.com/app/670290/reviews/?...   \n",
       "88313   http://steamcommunity.com/app/767400/reviews/?...   \n",
       "88314   http://steamcommunity.com/app/773570/reviews/?...   \n",
       "...                                                   ...   \n",
       "120440  http://steamcommunity.com/app/773640/reviews/?...   \n",
       "120441  http://steamcommunity.com/app/733530/reviews/?...   \n",
       "120442  http://steamcommunity.com/app/610660/reviews/?...   \n",
       "120443  http://steamcommunity.com/app/658870/reviews/?...   \n",
       "120444  http://steamcommunity.com/app/681550/reviews/?...   \n",
       "\n",
       "                                                    specs         price  \\\n",
       "88310                                     [Single-player]          4.99   \n",
       "88311   [Single-player, Multi-player, Online Multi-Pla...  Free To Play   \n",
       "88312   [Single-player, Multi-player, Online Multi-Pla...  Free to Play   \n",
       "88313                                     [Single-player]          0.99   \n",
       "88314   [Single-player, Full controller support, HTC V...          2.99   \n",
       "...                                                   ...           ...   \n",
       "120440                [Single-player, Steam Achievements]          1.99   \n",
       "120441  [Single-player, Steam Achievements, Steam Clou...          4.99   \n",
       "120442  [Single-player, Steam Achievements, Steam Trad...          1.99   \n",
       "120443   [Single-player, Steam Achievements, Steam Cloud]          4.99   \n",
       "120444  [Single-player, Stats, Steam Leaderboards, HTC...          4.99   \n",
       "\n",
       "        early_access        id                 developer  \n",
       "88310            0.0  761140.0                 Kotoshiro  \n",
       "88311            0.0  643980.0          Secret Level SRL  \n",
       "88312            0.0  670290.0              Poolians.com  \n",
       "88313            0.0  767400.0                      彼岸领域  \n",
       "88314            0.0  773570.0                      None  \n",
       "...              ...       ...                       ...  \n",
       "120440           0.0  773640.0        Nikita \"Ghost_RUS\"  \n",
       "120441           0.0  733530.0                    Sacada  \n",
       "120442           0.0  610660.0  Laush Dmitriy Sergeevich  \n",
       "120443           0.0  658870.0             xropi,stev3ns  \n",
       "120444           1.0  681550.0                      None  \n",
       "\n",
       "[32135 rows x 13 columns]"
      ]
     },
     "execution_count": 10,
     "metadata": {},
     "output_type": "execute_result"
    }
   ],
   "source": [
    "df_steam_games"
   ]
  },
  {
   "block_group": "a6f719d0200d4c62a88f19fa73bea6c9",
   "cell_type": "markdown",
   "metadata": {
    "cell_id": "a6f719d0200d4c62a88f19fa73bea6c9",
    "deepnote_cell_type": "markdown"
   },
   "source": [
    "#### 3.1.2.Revision de df_user_reviews"
   ]
  },
  {
   "block_group": "8f1f10b850e14f49a818a68aa93b667b",
   "cell_type": "code",
   "execution_count": null,
   "metadata": {
    "cell_id": "8f1f10b850e14f49a818a68aa93b667b",
    "deepnote_cell_type": "code",
    "deepnote_to_be_reexecuted": false,
    "execution_millis": 6494,
    "execution_start": 1693321367583,
    "source_hash": null
   },
   "outputs": [
    {
     "name": "stdout",
     "output_type": "stream",
     "text": [
      "******************************Forma de la base de datos******************************\n",
      "\n",
      "(25799, 3)\n",
      "\n",
      "******************************Informacion general de la base de datos******************************\n",
      "\n",
      "<class 'pandas.core.frame.DataFrame'>\n",
      "RangeIndex: 25799 entries, 0 to 25798\n",
      "Data columns (total 3 columns):\n",
      " #   Column    Non-Null Count  Dtype \n",
      "---  ------    --------------  ----- \n",
      " 0   user_id   25799 non-null  object\n",
      " 1   user_url  25799 non-null  object\n",
      " 2   reviews   25799 non-null  object\n",
      "dtypes: object(3)\n",
      "memory usage: 604.8+ KB\n",
      "None\n",
      "\n",
      "******************************Mostrar las primeras 5 filas******************************\n",
      "\n",
      "             user_id                                           user_url  \\\n",
      "0  76561197970982479  http://steamcommunity.com/profiles/76561197970...   \n",
      "1            js41637               http://steamcommunity.com/id/js41637   \n",
      "2          evcentric             http://steamcommunity.com/id/evcentric   \n",
      "3              doctr                 http://steamcommunity.com/id/doctr   \n",
      "4          maplemage             http://steamcommunity.com/id/maplemage   \n",
      "\n",
      "                                             reviews  \n",
      "0  [{'funny': '', 'posted': 'Posted November 5, 2...  \n",
      "1  [{'funny': '', 'posted': 'Posted June 24, 2014...  \n",
      "2  [{'funny': '', 'posted': 'Posted February 3.',...  \n",
      "3  [{'funny': '', 'posted': 'Posted October 14, 2...  \n",
      "4  [{'funny': '3 people found this review funny',...  \n",
      "\n",
      "******************************NaN cantidad de nulos******************************\n",
      "\n",
      "user_id     0\n",
      "user_url    0\n",
      "reviews     0\n",
      "dtype: int64\n",
      "\n"
     ]
    }
   ],
   "source": [
    "check_df(df_user_reviews)"
   ]
  },
  {
   "block_group": "dee0332448114fcca3700e041b8de626",
   "cell_type": "markdown",
   "metadata": {
    "cell_id": "dee0332448114fcca3700e041b8de626",
    "deepnote_cell_type": "markdown"
   },
   "source": []
  },
  {
   "block_group": "fd885dbb23ab4581ad16c863be376e12",
   "cell_type": "code",
   "execution_count": null,
   "metadata": {
    "cell_id": "fd885dbb23ab4581ad16c863be376e12",
    "deepnote_cell_type": "code",
    "deepnote_to_be_reexecuted": false,
    "execution_millis": 456,
    "execution_start": 1693321367585,
    "source_hash": null
   },
   "outputs": [
    {
     "data": {
      "application/vnd.deepnote.dataframe.v3+json": {
       "column_count": 3,
       "columns": [
        {
         "dtype": "object",
         "name": "user_id",
         "stats": {
          "categories": [
           {
            "count": 1,
            "name": "76561197970982479"
           },
           {
            "count": 1,
            "name": "js41637"
           },
           {
            "count": 3,
            "name": "3 others"
           }
          ],
          "nan_count": 0,
          "unique_count": 5
         }
        },
        {
         "dtype": "object",
         "name": "user_url",
         "stats": {
          "categories": [
           {
            "count": 1,
            "name": "http://steamcommunity.com/profiles/76561197970982479"
           },
           {
            "count": 1,
            "name": "http://steamcommunity.com/id/js41637"
           },
           {
            "count": 3,
            "name": "3 others"
           }
          ],
          "nan_count": 0,
          "unique_count": 5
         }
        },
        {
         "dtype": "object",
         "name": "reviews",
         "stats": {
          "categories": [
           {
            "count": 1,
            "name": "[{'funny': '', 'posted': 'Posted November 5, 2011.', 'last_edited': '', 'item_id': '1250', 'helpful': 'No ratings yet', 'recommend': True, 'review': 'Simple yet with great replayability. In my opinion does \"zombie\" hordes and team work better than left 4 dead plus has a global leveling system. Alot of down to earth \"zombie\" splattering fun for the whole family. Amazed this sort of FPS is so rare.'}, {'funny': '', 'posted': 'Posted July 15, 2011.', 'last_edited': '', 'item_id': '22200', 'helpful': 'No ratings yet', 'recommend': True, 'review': \"It's unique and worth a playthrough.\"}, {'funny': '', 'posted': 'Posted April 21, 2011.', 'last_edited': '', 'item_id': '43110', 'helpful': 'No ratings yet', 'recommend': True, 'review': 'Great atmosphere. The gunplay can be a bit chunky at times but at the end of the day this game is definitely worth it and I hope they do a sequel...so buy the game so I get a sequel!'}]"
           },
           {
            "count": 1,
            "name": "[{'funny': '', 'posted': 'Posted June 24, 2014.', 'last_edited': '', 'item_id': '251610', 'helpful': '15 of 20 people (75%) found this review helpful', 'recommend': True, 'review': 'I know what you think when you see this title \"Barbie Dreamhouse Party\" but do not be intimidated by it\\'s title, this is easily one of my GOTYs. You don\\'t get any of that cliche game mechanics that all the latest games have, this is simply good core gameplay. Yes, you can\\'t 360 noscope your friends, but what you can do is show them up with your bad ♥♥♥ dance moves and put them to shame as you show them what true fashion and color combinations are.I know this game says for kids but, this is easily for any age range and any age will have a blast playing this.8/8'}, {'funny': '', 'posted': 'Posted September 8, 2013.', 'last_edited': '', 'item_id': '227300', 'helpful': '0 of 1 people (0%) found this review helpful', 'recommend': True, 'review': \"For a simple (it's actually not all that simple but it can be!) truck driving Simulator, it is quite a fun and relaxing game. Playing on simple (or easy?) its just the basic WASD keys for driving but (if you want) the game can be much harder and realistic with having to manually change gears, much harder turning, etc. And reversing in this game is a ♥♥♥♥♥, as I imagine it would be with an actual truck. Luckily, you don't have to reverse park it but you get extra points if you do cause it is bloody hard. But this is suprisingly a nice truck driving game and I had a bit of fun with it.\"}, {'funny': '', 'posted': 'Posted November 29, 2013.', 'last_edited': '', 'item_id': '239030', 'helpful': '1 of 4 people (25%) found this review helpful', 'recommend': True, 'review': 'Very fun little game to play when your bored or as a time passer. Very gud. Do Recommend. pls buy'}]"
           },
           {
            "count": 3,
            "name": "3 others"
           }
          ],
          "nan_count": 0,
          "unique_count": 5
         }
        },
        {
         "dtype": "int64",
         "name": "_deepnote_index_column"
        }
       ],
       "row_count": 5,
       "rows": [
        {
         "_deepnote_index_column": 0,
         "reviews": "[{'funny': '', 'posted': 'Posted November 5, 2011.', 'last_edited': '', 'item_id': '1250', 'helpful': 'No ratings yet', 'recommend': True, 'review': 'Simple yet with great replayability. In my opinion does \"zombie\" hordes and team work better than left 4 dead plus has a global leveling system. Alot of down to earth \"zombie\" splattering fun for the whole family. Amazed this sort of FPS is so rare.'}, {'funny': '', 'posted': 'Posted July 15, 2011.', 'last_edited': '', 'item_id': '22200', 'helpful': 'No ratings yet', 'recommend': True, 'review': \"It's unique and worth a playthrough.\"}, {'funny': '', 'posted': 'Posted April 21, 2011.', 'last_edited': '', 'item_id': '43110', 'helpful': 'No ratings yet', 'recommend': True, 'review': 'Great atmosphere. The gunplay can be a bit chunky at times but at the end of the day this game is definitely worth it and I hope they do a sequel...so buy the game so I get a sequel!'}]",
         "user_id": "76561197970982479",
         "user_url": "http://steamcommunity.com/profiles/76561197970982479"
        },
        {
         "_deepnote_index_column": 1,
         "reviews": "[{'funny': '', 'posted': 'Posted June 24, 2014.', 'last_edited': '', 'item_id': '251610', 'helpful': '15 of 20 people (75%) found this review helpful', 'recommend': True, 'review': 'I know what you think when you see this title \"Barbie Dreamhouse Party\" but do not be intimidated by it\\'s title, this is easily one of my GOTYs. You don\\'t get any of that cliche game mechanics that all the latest games have, this is simply good core gameplay. Yes, you can\\'t 360 noscope your friends, but what you can do is show them up with your bad ♥♥♥ dance moves and put them to shame as you show them what true fashion and color combinations are.I know this game says for kids but, this is easily for any age range and any age will have a blast playing this.8/8'}, {'funny': '', 'posted': 'Posted September 8, 2013.', 'last_edited': '', 'item_id': '227300', 'helpful': '0 of 1 people (0%) found this review helpful', 'recommend': True, 'review': \"For a simple (it's actually not all that simple but it can be!…",
         "user_id": "js41637",
         "user_url": "http://steamcommunity.com/id/js41637"
        },
        {
         "_deepnote_index_column": 2,
         "reviews": "[{'funny': '', 'posted': 'Posted February 3.', 'last_edited': '', 'item_id': '248820', 'helpful': 'No ratings yet', 'recommend': True, 'review': \"A suitably punishing roguelike platformer.  Winning feels good.  Progressive unlocks mean a good slog ending in failure doesn't feel like a waste.\"}, {'funny': '', 'posted': 'Posted December 4, 2015.', 'last_edited': 'Last edited December 5, 2015.', 'item_id': '370360', 'helpful': 'No ratings yet', 'recommend': True, 'review': '\"Run for fun? What the hell kind of fun is that?\"'}, {'funny': '', 'posted': 'Posted November 3, 2014.', 'last_edited': '', 'item_id': '237930', 'helpful': 'No ratings yet', 'recommend': True, 'review': 'Elegant integration of gameplay, story, world development and aesthetic.'}, {'funny': '', 'posted': 'Posted October 15, 2014.', 'last_edited': '', 'item_id': '263360', 'helpful': 'No ratings yet', 'recommend': True, 'review': 'Random drops and random quests, with stat points.  Animation style reminiscent of the era be…",
         "user_id": "evcentric",
         "user_url": "http://steamcommunity.com/id/evcentric"
        },
        {
         "_deepnote_index_column": 3,
         "reviews": "[{'funny': '', 'posted': 'Posted October 14, 2013.', 'last_edited': '', 'item_id': '250320', 'helpful': '2 of 2 people (100%) found this review helpful', 'recommend': True, 'review': 'This game... is so fun. The fight sequences have been improved from walking dead. It also includes more of a Sam and Max puzzle solving (some of it in the first episode) and walking dead. The game also gets even more better if you have read the Fables comic books, which are without a doubt, very good. The music is also superb and fit the scenarios very well.'}, {'funny': '', 'posted': 'Posted July 28, 2012.', 'last_edited': '', 'item_id': '20920', 'helpful': '1 of 1 people (100%) found this review helpful', 'recommend': True, 'review': \"Really Really Really Great Game, very good story, im in chapter 1 atm and i think its great. You get a really early link with characters. No need to play the first game, its nicely wrapped up for you in a five minute video. FYI beware of the sex scenes :P, nudity does hap…",
         "user_id": "doctr",
         "user_url": "http://steamcommunity.com/id/doctr"
        },
        {
         "_deepnote_index_column": 4,
         "reviews": "[{'funny': '3 people found this review funny', 'posted': 'Posted April 15, 2014.', 'last_edited': '', 'item_id': '211420', 'helpful': '35 of 43 people (81%) found this review helpful', 'recommend': True, 'review': 'Git gud'}, {'funny': '1 person found this review funny', 'posted': 'Posted December 23, 2013.', 'last_edited': '', 'item_id': '211820', 'helpful': '12 of 16 people (75%) found this review helpful', 'recommend': True, 'review': \"It's like Terraria, you play for 9 hours straight, get endgame armour then stop playing until the next update.\"}, {'funny': '2 people found this review funny', 'posted': 'Posted March 14, 2014.', 'last_edited': '', 'item_id': '730', 'helpful': '5 of 5 people (100%) found this review helpful', 'recommend': True, 'review': 'Hold shift to win, Hold CTRL to lose.'}, {'funny': '', 'posted': 'Posted July 11, 2013.', 'last_edited': '', 'item_id': '204300', 'helpful': 'No ratings yet', 'recommend': True, 'review': \"OH YES, THIS GAME IS THE BEST, THEY ADD STU…",
         "user_id": "maplemage",
         "user_url": "http://steamcommunity.com/id/maplemage"
        }
       ]
      },
      "text/html": [
       "<div>\n",
       "<style scoped>\n",
       "    .dataframe tbody tr th:only-of-type {\n",
       "        vertical-align: middle;\n",
       "    }\n",
       "\n",
       "    .dataframe tbody tr th {\n",
       "        vertical-align: top;\n",
       "    }\n",
       "\n",
       "    .dataframe thead th {\n",
       "        text-align: right;\n",
       "    }\n",
       "</style>\n",
       "<table border=\"1\" class=\"dataframe\">\n",
       "  <thead>\n",
       "    <tr style=\"text-align: right;\">\n",
       "      <th></th>\n",
       "      <th>user_id</th>\n",
       "      <th>user_url</th>\n",
       "      <th>reviews</th>\n",
       "    </tr>\n",
       "  </thead>\n",
       "  <tbody>\n",
       "    <tr>\n",
       "      <th>0</th>\n",
       "      <td>76561197970982479</td>\n",
       "      <td>http://steamcommunity.com/profiles/76561197970...</td>\n",
       "      <td>[{'funny': '', 'posted': 'Posted November 5, 2...</td>\n",
       "    </tr>\n",
       "    <tr>\n",
       "      <th>1</th>\n",
       "      <td>js41637</td>\n",
       "      <td>http://steamcommunity.com/id/js41637</td>\n",
       "      <td>[{'funny': '', 'posted': 'Posted June 24, 2014...</td>\n",
       "    </tr>\n",
       "    <tr>\n",
       "      <th>2</th>\n",
       "      <td>evcentric</td>\n",
       "      <td>http://steamcommunity.com/id/evcentric</td>\n",
       "      <td>[{'funny': '', 'posted': 'Posted February 3.',...</td>\n",
       "    </tr>\n",
       "    <tr>\n",
       "      <th>3</th>\n",
       "      <td>doctr</td>\n",
       "      <td>http://steamcommunity.com/id/doctr</td>\n",
       "      <td>[{'funny': '', 'posted': 'Posted October 14, 2...</td>\n",
       "    </tr>\n",
       "    <tr>\n",
       "      <th>4</th>\n",
       "      <td>maplemage</td>\n",
       "      <td>http://steamcommunity.com/id/maplemage</td>\n",
       "      <td>[{'funny': '3 people found this review funny',...</td>\n",
       "    </tr>\n",
       "  </tbody>\n",
       "</table>\n",
       "</div>"
      ],
      "text/plain": [
       "             user_id                                           user_url  \\\n",
       "0  76561197970982479  http://steamcommunity.com/profiles/76561197970...   \n",
       "1            js41637               http://steamcommunity.com/id/js41637   \n",
       "2          evcentric             http://steamcommunity.com/id/evcentric   \n",
       "3              doctr                 http://steamcommunity.com/id/doctr   \n",
       "4          maplemage             http://steamcommunity.com/id/maplemage   \n",
       "\n",
       "                                             reviews  \n",
       "0  [{'funny': '', 'posted': 'Posted November 5, 2...  \n",
       "1  [{'funny': '', 'posted': 'Posted June 24, 2014...  \n",
       "2  [{'funny': '', 'posted': 'Posted February 3.',...  \n",
       "3  [{'funny': '', 'posted': 'Posted October 14, 2...  \n",
       "4  [{'funny': '3 people found this review funny',...  "
      ]
     },
     "execution_count": 12,
     "metadata": {},
     "output_type": "execute_result"
    }
   ],
   "source": [
    "df_user_reviews.head()"
   ]
  },
  {
   "block_group": "1c607220d81b4dcda6fd9e030f39ff4d",
   "cell_type": "code",
   "execution_count": null,
   "metadata": {
    "cell_id": "1c607220d81b4dcda6fd9e030f39ff4d",
    "deepnote_cell_type": "code",
    "deepnote_to_be_reexecuted": false,
    "execution_millis": 260,
    "execution_start": 1693321385271,
    "source_hash": null
   },
   "outputs": [],
   "source": [
    "\n",
    "df_user_reviews=df_user_reviews.explode('reviews')"
   ]
  },
  {
   "block_group": "9cd546ab1efd4f64956ba71fc63eb929",
   "cell_type": "code",
   "execution_count": null,
   "metadata": {
    "cell_id": "9cd546ab1efd4f64956ba71fc63eb929",
    "deepnote_cell_type": "code",
    "deepnote_to_be_reexecuted": false,
    "execution_millis": 387,
    "execution_start": 1693321394718,
    "source_hash": null
   },
   "outputs": [
    {
     "data": {
      "application/vnd.deepnote.dataframe.v3+json": {
       "column_count": 3,
       "columns": [
        {
         "dtype": "object",
         "name": "user_id",
         "stats": {
          "categories": [
           {
            "count": 20,
            "name": "chicken_tonight"
           },
           {
            "count": 20,
            "name": "OfficialSenix"
           },
           {
            "count": 59293,
            "name": "25483 others"
           }
          ],
          "nan_count": 0,
          "unique_count": 25485
         }
        },
        {
         "dtype": "object",
         "name": "user_url"
        },
        {
         "dtype": "object",
         "name": "reviews"
        },
        {
         "dtype": "int64",
         "name": "_deepnote_index_column"
        }
       ],
       "row_count": 59333,
       "rows": [
        {
         "_deepnote_index_column": 0,
         "reviews": "{'funny': '', 'posted': 'Posted November 5, 2011.', 'last_edited': '', 'item_id': '1250', 'helpful': 'No ratings yet', 'recommend': True, 'review': 'Simple yet with great replayability. In my opinion does \"zombie\" hordes and team work better than left 4 dead plus has a global leveling system. Alot of down to earth \"zombie\" splattering fun for the whole family. Amazed this sort of FPS is so rare.'}",
         "user_id": "76561197970982479",
         "user_url": "http://steamcommunity.com/profiles/76561197970982479"
        },
        {
         "_deepnote_index_column": 0,
         "reviews": "{'funny': '', 'posted': 'Posted July 15, 2011.', 'last_edited': '', 'item_id': '22200', 'helpful': 'No ratings yet', 'recommend': True, 'review': \"It's unique and worth a playthrough.\"}",
         "user_id": "76561197970982479",
         "user_url": "http://steamcommunity.com/profiles/76561197970982479"
        },
        {
         "_deepnote_index_column": 0,
         "reviews": "{'funny': '', 'posted': 'Posted April 21, 2011.', 'last_edited': '', 'item_id': '43110', 'helpful': 'No ratings yet', 'recommend': True, 'review': 'Great atmosphere. The gunplay can be a bit chunky at times but at the end of the day this game is definitely worth it and I hope they do a sequel...so buy the game so I get a sequel!'}",
         "user_id": "76561197970982479",
         "user_url": "http://steamcommunity.com/profiles/76561197970982479"
        },
        {
         "_deepnote_index_column": 1,
         "reviews": "{'funny': '', 'posted': 'Posted June 24, 2014.', 'last_edited': '', 'item_id': '251610', 'helpful': '15 of 20 people (75%) found this review helpful', 'recommend': True, 'review': 'I know what you think when you see this title \"Barbie Dreamhouse Party\" but do not be intimidated by it\\'s title, this is easily one of my GOTYs. You don\\'t get any of that cliche game mechanics that all the latest games have, this is simply good core gameplay. Yes, you can\\'t 360 noscope your friends, but what you can do is show them up with your bad ♥♥♥ dance moves and put them to shame as you show them what true fashion and color combinations are.I know this game says for kids but, this is easily for any age range and any age will have a blast playing this.8/8'}",
         "user_id": "js41637",
         "user_url": "http://steamcommunity.com/id/js41637"
        },
        {
         "_deepnote_index_column": 1,
         "reviews": "{'funny': '', 'posted': 'Posted September 8, 2013.', 'last_edited': '', 'item_id': '227300', 'helpful': '0 of 1 people (0%) found this review helpful', 'recommend': True, 'review': \"For a simple (it's actually not all that simple but it can be!) truck driving Simulator, it is quite a fun and relaxing game. Playing on simple (or easy?) its just the basic WASD keys for driving but (if you want) the game can be much harder and realistic with having to manually change gears, much harder turning, etc. And reversing in this game is a ♥♥♥♥♥, as I imagine it would be with an actual truck. Luckily, you don't have to reverse park it but you get extra points if you do cause it is bloody hard. But this is suprisingly a nice truck driving game and I had a bit of fun with it.\"}",
         "user_id": "js41637",
         "user_url": "http://steamcommunity.com/id/js41637"
        },
        {
         "_deepnote_index_column": 1,
         "reviews": "{'funny': '', 'posted': 'Posted November 29, 2013.', 'last_edited': '', 'item_id': '239030', 'helpful': '1 of 4 people (25%) found this review helpful', 'recommend': True, 'review': 'Very fun little game to play when your bored or as a time passer. Very gud. Do Recommend. pls buy'}",
         "user_id": "js41637",
         "user_url": "http://steamcommunity.com/id/js41637"
        },
        {
         "_deepnote_index_column": 2,
         "reviews": "{'funny': '', 'posted': 'Posted February 3.', 'last_edited': '', 'item_id': '248820', 'helpful': 'No ratings yet', 'recommend': True, 'review': \"A suitably punishing roguelike platformer.  Winning feels good.  Progressive unlocks mean a good slog ending in failure doesn't feel like a waste.\"}",
         "user_id": "evcentric",
         "user_url": "http://steamcommunity.com/id/evcentric"
        },
        {
         "_deepnote_index_column": 2,
         "reviews": "{'funny': '', 'posted': 'Posted December 4, 2015.', 'last_edited': 'Last edited December 5, 2015.', 'item_id': '370360', 'helpful': 'No ratings yet', 'recommend': True, 'review': '\"Run for fun? What the hell kind of fun is that?\"'}",
         "user_id": "evcentric",
         "user_url": "http://steamcommunity.com/id/evcentric"
        },
        {
         "_deepnote_index_column": 2,
         "reviews": "{'funny': '', 'posted': 'Posted November 3, 2014.', 'last_edited': '', 'item_id': '237930', 'helpful': 'No ratings yet', 'recommend': True, 'review': 'Elegant integration of gameplay, story, world development and aesthetic.'}",
         "user_id": "evcentric",
         "user_url": "http://steamcommunity.com/id/evcentric"
        },
        {
         "_deepnote_index_column": 2,
         "reviews": "{'funny': '', 'posted': 'Posted October 15, 2014.', 'last_edited': '', 'item_id': '263360', 'helpful': 'No ratings yet', 'recommend': True, 'review': 'Random drops and random quests, with stat points.  Animation style reminiscent of the era before the Voodoo card.'}",
         "user_id": "evcentric",
         "user_url": "http://steamcommunity.com/id/evcentric"
        }
       ]
      },
      "text/html": [
       "<div>\n",
       "<style scoped>\n",
       "    .dataframe tbody tr th:only-of-type {\n",
       "        vertical-align: middle;\n",
       "    }\n",
       "\n",
       "    .dataframe tbody tr th {\n",
       "        vertical-align: top;\n",
       "    }\n",
       "\n",
       "    .dataframe thead th {\n",
       "        text-align: right;\n",
       "    }\n",
       "</style>\n",
       "<table border=\"1\" class=\"dataframe\">\n",
       "  <thead>\n",
       "    <tr style=\"text-align: right;\">\n",
       "      <th></th>\n",
       "      <th>user_id</th>\n",
       "      <th>user_url</th>\n",
       "      <th>reviews</th>\n",
       "    </tr>\n",
       "  </thead>\n",
       "  <tbody>\n",
       "    <tr>\n",
       "      <th>0</th>\n",
       "      <td>76561197970982479</td>\n",
       "      <td>http://steamcommunity.com/profiles/76561197970...</td>\n",
       "      <td>{'funny': '', 'posted': 'Posted November 5, 20...</td>\n",
       "    </tr>\n",
       "    <tr>\n",
       "      <th>0</th>\n",
       "      <td>76561197970982479</td>\n",
       "      <td>http://steamcommunity.com/profiles/76561197970...</td>\n",
       "      <td>{'funny': '', 'posted': 'Posted July 15, 2011....</td>\n",
       "    </tr>\n",
       "    <tr>\n",
       "      <th>0</th>\n",
       "      <td>76561197970982479</td>\n",
       "      <td>http://steamcommunity.com/profiles/76561197970...</td>\n",
       "      <td>{'funny': '', 'posted': 'Posted April 21, 2011...</td>\n",
       "    </tr>\n",
       "    <tr>\n",
       "      <th>1</th>\n",
       "      <td>js41637</td>\n",
       "      <td>http://steamcommunity.com/id/js41637</td>\n",
       "      <td>{'funny': '', 'posted': 'Posted June 24, 2014....</td>\n",
       "    </tr>\n",
       "    <tr>\n",
       "      <th>1</th>\n",
       "      <td>js41637</td>\n",
       "      <td>http://steamcommunity.com/id/js41637</td>\n",
       "      <td>{'funny': '', 'posted': 'Posted September 8, 2...</td>\n",
       "    </tr>\n",
       "    <tr>\n",
       "      <th>...</th>\n",
       "      <td>...</td>\n",
       "      <td>...</td>\n",
       "      <td>...</td>\n",
       "    </tr>\n",
       "    <tr>\n",
       "      <th>25797</th>\n",
       "      <td>76561198312638244</td>\n",
       "      <td>http://steamcommunity.com/profiles/76561198312...</td>\n",
       "      <td>{'funny': '', 'posted': 'Posted July 10.', 'la...</td>\n",
       "    </tr>\n",
       "    <tr>\n",
       "      <th>25797</th>\n",
       "      <td>76561198312638244</td>\n",
       "      <td>http://steamcommunity.com/profiles/76561198312...</td>\n",
       "      <td>{'funny': '', 'posted': 'Posted July 8.', 'las...</td>\n",
       "    </tr>\n",
       "    <tr>\n",
       "      <th>25798</th>\n",
       "      <td>LydiaMorley</td>\n",
       "      <td>http://steamcommunity.com/id/LydiaMorley</td>\n",
       "      <td>{'funny': '1 person found this review funny', ...</td>\n",
       "    </tr>\n",
       "    <tr>\n",
       "      <th>25798</th>\n",
       "      <td>LydiaMorley</td>\n",
       "      <td>http://steamcommunity.com/id/LydiaMorley</td>\n",
       "      <td>{'funny': '', 'posted': 'Posted July 20.', 'la...</td>\n",
       "    </tr>\n",
       "    <tr>\n",
       "      <th>25798</th>\n",
       "      <td>LydiaMorley</td>\n",
       "      <td>http://steamcommunity.com/id/LydiaMorley</td>\n",
       "      <td>{'funny': '', 'posted': 'Posted July 2.', 'las...</td>\n",
       "    </tr>\n",
       "  </tbody>\n",
       "</table>\n",
       "<p>59333 rows × 3 columns</p>\n",
       "</div>"
      ],
      "text/plain": [
       "                 user_id                                           user_url  \\\n",
       "0      76561197970982479  http://steamcommunity.com/profiles/76561197970...   \n",
       "0      76561197970982479  http://steamcommunity.com/profiles/76561197970...   \n",
       "0      76561197970982479  http://steamcommunity.com/profiles/76561197970...   \n",
       "1                js41637               http://steamcommunity.com/id/js41637   \n",
       "1                js41637               http://steamcommunity.com/id/js41637   \n",
       "...                  ...                                                ...   \n",
       "25797  76561198312638244  http://steamcommunity.com/profiles/76561198312...   \n",
       "25797  76561198312638244  http://steamcommunity.com/profiles/76561198312...   \n",
       "25798        LydiaMorley           http://steamcommunity.com/id/LydiaMorley   \n",
       "25798        LydiaMorley           http://steamcommunity.com/id/LydiaMorley   \n",
       "25798        LydiaMorley           http://steamcommunity.com/id/LydiaMorley   \n",
       "\n",
       "                                                 reviews  \n",
       "0      {'funny': '', 'posted': 'Posted November 5, 20...  \n",
       "0      {'funny': '', 'posted': 'Posted July 15, 2011....  \n",
       "0      {'funny': '', 'posted': 'Posted April 21, 2011...  \n",
       "1      {'funny': '', 'posted': 'Posted June 24, 2014....  \n",
       "1      {'funny': '', 'posted': 'Posted September 8, 2...  \n",
       "...                                                  ...  \n",
       "25797  {'funny': '', 'posted': 'Posted July 10.', 'la...  \n",
       "25797  {'funny': '', 'posted': 'Posted July 8.', 'las...  \n",
       "25798  {'funny': '1 person found this review funny', ...  \n",
       "25798  {'funny': '', 'posted': 'Posted July 20.', 'la...  \n",
       "25798  {'funny': '', 'posted': 'Posted July 2.', 'las...  \n",
       "\n",
       "[59333 rows x 3 columns]"
      ]
     },
     "execution_count": 15,
     "metadata": {},
     "output_type": "execute_result"
    }
   ],
   "source": [
    "df_user_reviews"
   ]
  },
  {
   "block_group": "adc34bd1c4e444f0a1f77327269d03e3",
   "cell_type": "code",
   "execution_count": null,
   "metadata": {
    "cell_id": "adc34bd1c4e444f0a1f77327269d03e3",
    "deepnote_cell_type": "code",
    "deepnote_to_be_reexecuted": false,
    "execution_millis": 740,
    "execution_start": 1693321402525,
    "source_hash": null
   },
   "outputs": [
    {
     "ename": "NameError",
     "evalue": "name 'df_user_reviews2' is not defined",
     "output_type": "error",
     "traceback": [
      "\u001b[0;31m---------------------------------------------------------------------------\u001b[0m",
      "\u001b[0;31mNameError\u001b[0m                                 Traceback (most recent call last)",
      "Cell \u001b[0;32mIn [1], line 1\u001b[0m\n\u001b[0;32m----> 1\u001b[0m \u001b[43mdf_user_reviews2\u001b[49m\n",
      "\u001b[0;31mNameError\u001b[0m: name 'df_user_reviews2' is not defined"
     ]
    }
   ],
   "source": [
    "df_user_reviews.dropna(subset=['reviews'],inplace=True)"
   ]
  },
  {
   "block_group": "674166e89a6144c19ff4301c43b132d7",
   "cell_type": "code",
   "execution_count": null,
   "metadata": {
    "cell_id": "674166e89a6144c19ff4301c43b132d7",
    "deepnote_cell_type": "code"
   },
   "outputs": [],
   "source": [
    "for elemento,diccionario in df_user_reviews['reviews'].items():\n",
    "    df=pd.DataFrame(columns=diccionario.keys())\n",
    "df"
   ]
  },
  {
   "block_group": "5ce7ee94dba145a283d0b1268fd0ddab",
   "cell_type": "code",
   "execution_count": null,
   "metadata": {
    "cell_id": "5ce7ee94dba145a283d0b1268fd0ddab",
    "deepnote_cell_type": "code"
   },
   "outputs": [],
   "source": [
    "new_rows = []\n",
    "\n",
    "# Iterate over the dictionaries in the 'reviews' column\n",
    "for elemento, diccionario in df_user_reviews['reviews'].items():\n",
    "    new_row = pd.DataFrame(diccionario, index=[elemento])  # Create a new row DataFrame\n",
    "    new_rows.append(new_row)  # Append the new row to the list\n",
    "\n",
    "# Concatenate the list of new rows with the original DataFrame\n",
    "result_df = pd.concat([df, *new_rows])\n",
    "\n",
    "# Reset index\n",
    "df_user_reviews2=df_user_reviews.join(result_df)\n",
    "\n",
    "\n",
    "df_user_reviews2.drop_duplicates(subset=['user_id','posted'])"
   ]
  },
  {
   "block_group": "edba307a3dac471da57428886e9e6a01",
   "cell_type": "code",
   "execution_count": null,
   "metadata": {
    "cell_id": "edba307a3dac471da57428886e9e6a01",
    "deepnote_cell_type": "code"
   },
   "outputs": [],
   "source": [
    "df_user_reviews2.drop(columns=['reviews'],inplace=True)"
   ]
  },
  {
   "block_group": "8c69c97a663045ea978b42d2054c070b",
   "cell_type": "code",
   "execution_count": null,
   "metadata": {
    "cell_id": "8c69c97a663045ea978b42d2054c070b",
    "deepnote_cell_type": "code"
   },
   "outputs": [],
   "source": [
    "df_user_reviews2"
   ]
  },
  {
   "cell_type": "markdown",
   "metadata": {
    "created_in_deepnote_cell": true,
    "deepnote_cell_type": "markdown"
   },
   "source": [
    "<a style='text-decoration:none;line-height:16px;display:flex;color:#5B5B62;padding:10px;justify-content:end;' href='https://deepnote.com?utm_source=created-in-deepnote-cell&projectId=4524ba11-496a-41e2-81b8-05103cd32615' target=\"_blank\">\n",
    "<img alt='Created in deepnote.com' style='display:inline;max-height:16px;margin:0px;margin-right:7.5px;' src='data:image/svg+xml;base64,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' > </img>\n",
    "Created in <span style='font-weight:600;margin-left:4px;'>Deepnote</span></a>"
   ]
  }
 ],
 "metadata": {
  "deepnote": {},
  "deepnote_execution_queue": [],
  "deepnote_full_width": true,
  "deepnote_notebook_id": "994db0b3e3124e339bb07a302271c46d",
  "kernelspec": {
   "display_name": "Python 3 (ipykernel)",
   "language": "python",
   "name": "python3"
  },
  "language_info": {
   "codemirror_mode": {
    "name": "ipython",
    "version": 3
   },
   "file_extension": ".py",
   "mimetype": "text/x-python",
   "name": "python",
   "nbconvert_exporter": "python",
   "pygments_lexer": "ipython3",
   "version": "3.11.4"
  }
 },
 "nbformat": 4,
 "nbformat_minor": 0
}
